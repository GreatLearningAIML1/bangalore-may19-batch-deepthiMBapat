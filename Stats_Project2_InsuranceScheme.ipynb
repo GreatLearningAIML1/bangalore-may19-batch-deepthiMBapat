{
 "cells": [
  {
   "cell_type": "code",
   "execution_count": 3,
   "metadata": {},
   "outputs": [
    {
     "name": "stdout",
     "output_type": "stream",
     "text": [
      "Mean of old scheme 68.03333333333333\n",
      "Mean of new scheme 72.03333333333333\n"
     ]
    }
   ],
   "source": [
    "#Problem statement : The Titan Insurance Company has just installed a new incentive payment scheme for its lift policy sales force. It wants to have an early view of the success or failure of the new scheme. Indications are that the sales force is selling more policies, but sales always vary in an unpredictable pattern from month to month and it is not clear that the scheme has made a significant difference.\n",
    "\n",
    "#Life Insurance companies typically measure the monthly output of a salesperson as the total sum assured for the policies sold by that person during the month. For example, suppose salesperson X has, in the month, sold seven policies for which the sums assured are £1000, £2500, £3000, £5000, £10000, £35000. X's output for the month is the total of these sums assured, £61,500. Titan's new scheme is that the sales force receives low regular salaries but are paid large bonuses related to their output (i.e. to the total sum assured of policies sold by them). The scheme is expensive for the company, but they are looking for sales increases which more than compensate. The agreement with the sales force is that if the scheme does not at least break even for the company, it will be abandoned after six months.\n",
    "\n",
    "#The scheme has now been in operation for four months. It has settled down after fluctuations in the first two months due to the changeover.\n",
    "\n",
    "#To test the effectiveness of the scheme, Titan have taken a random sample of 30 salespeople measured their output in the penultimate month prior to changeover and then measured it in the fourth month after the changeover (they have deliberately chosen months not too close to the changeover). The outputs of the salespeople are shown in Data \n",
    "\n",
    "#Questions 1. Find the mean of old scheme and new scheme column.\n",
    "\n",
    "import pandas as pd\n",
    "import numpy as np\n",
    "import scipy.stats as stats\n",
    "sales_df = pd.read_csv(\"data.csv\")\n",
    "\n",
    "print(\"Mean of old scheme\",sales_df[\"Old Scheme (in thousands)\"].mean())\n",
    "\n",
    "print(\"Mean of new scheme\",sales_df[\"New Scheme (in thousands)\"].mean())\n"
   ]
  },
  {
   "cell_type": "code",
   "execution_count": 4,
   "metadata": {},
   "outputs": [
    {
     "data": {
      "text/plain": [
       "Ttest_relResult(statistic=-1.5559143823544377, pvalue=0.13057553961337662)"
      ]
     },
     "execution_count": 4,
     "metadata": {},
     "output_type": "execute_result"
    }
   ],
   "source": [
    "#To test the effectiveness of the scheme, Titan have taken a random sample of 30 salespeople measured their output \n",
    "#in the penultimate month prior to changeover and then measured it in the fourth month after the changeover\n",
    "#(they have deliberately chosen months not too close to the changeover). The outputs of the salespeople are shown in Data \n",
    "\n",
    "#Question 2. Use the five percent significance test over the data to determine the p value to check new scheme has \n",
    "#significantly raised outputs?\n",
    "\n",
    "#### Answer ####\n",
    "# Choosing the paired t test for dependent samples. Meaning same set of sample is subjected to different conditions. \n",
    "# Below is the null & alternate hypothesis to be proven. \n",
    "#Null hypothesis = H0 =  newmean <= oldmean\n",
    "#Alternate hypothesis = Ha = newmean >= oldmean\n",
    "# This test gives out the p - value. if resultant p-value is < 0.05,Reject null hypothesis.\n",
    "\n",
    "stats.ttest_rel(sales_df[\"Old Scheme (in thousands)\"], sales_df[\"New Scheme (in thousands)\"])\n"
   ]
  },
  {
   "cell_type": "code",
   "execution_count": null,
   "metadata": {},
   "outputs": [],
   "source": [
    "#Question 3. What conclusion does the test (p-value) lead to? \n",
    "\n",
    "##### Answer \n",
    "# p value that we have got is 0.13 which is greater than 0.05 and hence we accept that null hypothesis which says \n",
    "# no significant change is observed in  the output/sales after introducing the scheme. "
   ]
  },
  {
   "cell_type": "code",
   "execution_count": 30,
   "metadata": {},
   "outputs": [
    {
     "name": "stdout",
     "output_type": "stream",
     "text": [
      "1.5559143823544377 p value 0.13057553961337662\n",
      "power of test 0.8694244603866234\n"
     ]
    }
   ],
   "source": [
    "#question 4. Suppose it has been calculated that in order for Titan to break even, the average output must increase by £5000 \n",
    "#in the scheme compared to the old scheme. If this figure is alternative hypothesis, what is:\n",
    "#        a) The probability of a type 1 error? \n",
    "\n",
    "#        b) What is the p- value of the hypothesis test if we test for a difference of $5000? \n",
    "\n",
    "#        c) Power of the test \n",
    "\n",
    "\n",
    "\n",
    "### Answer\n",
    "# Null & alternate hypothesis for this is , \n",
    "# H0 = NewschemeMean - Oldschememean = 0\n",
    "# Ha = NewschemeMean - Oldschememean = 5000 \n",
    "\n",
    "# a) Probability of type 1 error is determined by significance level which is 0.05 or 5% probability of making Type 1 error.\n",
    "\n",
    "# b) p value for this hypothesis test\n",
    "\n",
    "sales_df[\"Scheme_diff\"] = sales_df[\"New Scheme (in thousands)\"] - sales_df[\"Old Scheme (in thousands)\"]\n",
    "a = stats.ttest_1samp(sales_df[\"Scheme_diff\"],0)\n",
    "\n",
    "\n",
    "t_statistic, p_value = stats.ttest_1samp(sales_df[\"Scheme_diff\"], 0)\n",
    "print(t_statistic, \"p value\",p_value)\n",
    "# c) power of test \n",
    "\n",
    "beta = 1- p_value\n",
    "print(\"power of test\",beta)\n"
   ]
  },
  {
   "cell_type": "code",
   "execution_count": null,
   "metadata": {},
   "outputs": [],
   "source": [
    "# conclusion is that there is no significant change in the sales/output post introducing the new incentive scheme. "
   ]
  },
  {
   "cell_type": "code",
   "execution_count": null,
   "metadata": {},
   "outputs": [],
   "source": []
  },
  {
   "cell_type": "code",
   "execution_count": null,
   "metadata": {},
   "outputs": [],
   "source": []
  },
  {
   "cell_type": "code",
   "execution_count": null,
   "metadata": {},
   "outputs": [],
   "source": []
  },
  {
   "cell_type": "code",
   "execution_count": null,
   "metadata": {},
   "outputs": [],
   "source": []
  },
  {
   "cell_type": "code",
   "execution_count": null,
   "metadata": {},
   "outputs": [],
   "source": []
  }
 ],
 "metadata": {
  "kernelspec": {
   "display_name": "Python 3",
   "language": "python",
   "name": "python3"
  },
  "language_info": {
   "codemirror_mode": {
    "name": "ipython",
    "version": 3
   },
   "file_extension": ".py",
   "mimetype": "text/x-python",
   "name": "python",
   "nbconvert_exporter": "python",
   "pygments_lexer": "ipython3",
   "version": "3.7.3"
  }
 },
 "nbformat": 4,
 "nbformat_minor": 2
}

{
 "cells": [
  {
   "cell_type": "markdown",
   "metadata": {},
   "source": [
    "### The data set has information about features of silhouette extracted from the images of different cars\n",
    "\n",
    "Four \"Corgie\" model vehicles were used for the experiment: a double decker bus, Cheverolet van, Saab 9000 and an Opel Manta 400 cars. This particular combination of vehicles was chosen with the expectation that the bus, van and either one of the cars would be readily distinguishable, but it would be more difficult to distinguish between the cars.\n",
    "\n"
   ]
  },
  {
   "cell_type": "markdown",
   "metadata": {},
   "source": [
    "### 1. Read the dataset using function .dropna() - to avoid dealing with NAs as of now"
   ]
  },
  {
   "cell_type": "code",
   "execution_count": 1,
   "metadata": {},
   "outputs": [
    {
     "data": {
      "text/plain": [
       "compactness                    0\n",
       "circularity                    0\n",
       "distance_circularity           0\n",
       "radius_ratio                   0\n",
       "pr.axis_aspect_ratio           0\n",
       "max.length_aspect_ratio        0\n",
       "scatter_ratio                  0\n",
       "elongatedness                  0\n",
       "pr.axis_rectangularity         0\n",
       "max.length_rectangularity      0\n",
       "scaled_variance                0\n",
       "scaled_variance.1              0\n",
       "scaled_radius_of_gyration      0\n",
       "scaled_radius_of_gyration.1    0\n",
       "skewness_about                 0\n",
       "skewness_about.1               0\n",
       "skewness_about.2               0\n",
       "hollows_ratio                  0\n",
       "class                          0\n",
       "dtype: int64"
      ]
     },
     "execution_count": 1,
     "metadata": {},
     "output_type": "execute_result"
    }
   ],
   "source": [
    "import pandas as pd\n",
    "import numpy as np\n",
    "dataframe = pd.read_csv(\"vehicle.csv\")\n",
    "dataframeNona = dataframe.dropna() # drop NA values\n",
    "dataframeNona.isna().sum() # Checking if NA values are dropped"
   ]
  },
  {
   "cell_type": "markdown",
   "metadata": {},
   "source": [
    "### 2. Print/ Plot the dependent (categorical variable) - Class column"
   ]
  },
  {
   "cell_type": "markdown",
   "metadata": {},
   "source": [
    "Since the variable is categorical, you can use value_counts function"
   ]
  },
  {
   "cell_type": "code",
   "execution_count": 2,
   "metadata": {},
   "outputs": [
    {
     "name": "stdout",
     "output_type": "stream",
     "text": [
      "car    413\n",
      "bus    205\n",
      "van    195\n",
      "Name: class, dtype: int64\n"
     ]
    }
   ],
   "source": [
    "print(dataframeNona[\"class\"].value_counts())\n",
    "# Take away : There are more number of data points available for car class."
   ]
  },
  {
   "cell_type": "markdown",
   "metadata": {},
   "source": [
    "### Check for any missing values in the data "
   ]
  },
  {
   "cell_type": "code",
   "execution_count": 3,
   "metadata": {},
   "outputs": [
    {
     "name": "stdout",
     "output_type": "stream",
     "text": [
      "compactness                    0\n",
      "circularity                    0\n",
      "distance_circularity           0\n",
      "radius_ratio                   0\n",
      "pr.axis_aspect_ratio           0\n",
      "max.length_aspect_ratio        0\n",
      "scatter_ratio                  0\n",
      "elongatedness                  0\n",
      "pr.axis_rectangularity         0\n",
      "max.length_rectangularity      0\n",
      "scaled_variance                0\n",
      "scaled_variance.1              0\n",
      "scaled_radius_of_gyration      0\n",
      "scaled_radius_of_gyration.1    0\n",
      "skewness_about                 0\n",
      "skewness_about.1               0\n",
      "skewness_about.2               0\n",
      "hollows_ratio                  0\n",
      "class                          0\n",
      "dtype: int64\n",
      "                             count        mean         std    min    25%  \\\n",
      "compactness                  813.0   93.656827    8.233751   73.0   87.0   \n",
      "circularity                  813.0   44.803198    6.146659   33.0   40.0   \n",
      "distance_circularity         813.0   82.043050   15.783070   40.0   70.0   \n",
      "radius_ratio                 813.0  169.098401   33.615402  104.0  141.0   \n",
      "pr.axis_aspect_ratio         813.0   61.774908    7.973000   47.0   57.0   \n",
      "max.length_aspect_ratio      813.0    8.599016    4.677174    2.0    7.0   \n",
      "scatter_ratio                813.0  168.563346   33.082186  112.0  146.0   \n",
      "elongatedness                813.0   40.988930    7.803380   26.0   33.0   \n",
      "pr.axis_rectangularity       813.0   20.558426    2.573184   17.0   19.0   \n",
      "max.length_rectangularity    813.0  147.891759   14.504648  118.0  137.0   \n",
      "scaled_variance              813.0  188.377614   31.165873  130.0  167.0   \n",
      "scaled_variance.1            813.0  438.382534  175.270368  184.0  318.0   \n",
      "scaled_radius_of_gyration    813.0  174.252153   32.332161  109.0  149.0   \n",
      "scaled_radius_of_gyration.1  813.0   72.399754    7.475994   59.0   67.0   \n",
      "skewness_about               813.0    6.351784    4.921476    0.0    2.0   \n",
      "skewness_about.1             813.0   12.687577    8.926951    0.0    6.0   \n",
      "skewness_about.2             813.0  188.979090    6.153681  176.0  184.0   \n",
      "hollows_ratio                813.0  195.729397    7.398781  181.0  191.0   \n",
      "\n",
      "                               50%    75%     max  \n",
      "compactness                   93.0  100.0   119.0  \n",
      "circularity                   44.0   49.0    59.0  \n",
      "distance_circularity          79.0   98.0   112.0  \n",
      "radius_ratio                 167.0  195.0   333.0  \n",
      "pr.axis_aspect_ratio          61.0   65.0   138.0  \n",
      "max.length_aspect_ratio        8.0   10.0    55.0  \n",
      "scatter_ratio                157.0  198.0   265.0  \n",
      "elongatedness                 43.0   46.0    61.0  \n",
      "pr.axis_rectangularity        20.0   23.0    29.0  \n",
      "max.length_rectangularity    146.0  159.0   188.0  \n",
      "scaled_variance              179.0  217.0   320.0  \n",
      "scaled_variance.1            364.0  586.0  1018.0  \n",
      "scaled_radius_of_gyration    173.0  198.0   268.0  \n",
      "scaled_radius_of_gyration.1   71.0   75.0   135.0  \n",
      "skewness_about                 6.0    9.0    22.0  \n",
      "skewness_about.1              11.0   19.0    41.0  \n",
      "skewness_about.2             189.0  193.0   206.0  \n",
      "hollows_ratio                197.0  201.0   211.0  \n",
      "<class 'pandas.core.frame.DataFrame'>\n",
      "Int64Index: 813 entries, 0 to 845\n",
      "Data columns (total 19 columns):\n",
      "compactness                    813 non-null int64\n",
      "circularity                    813 non-null float64\n",
      "distance_circularity           813 non-null float64\n",
      "radius_ratio                   813 non-null float64\n",
      "pr.axis_aspect_ratio           813 non-null float64\n",
      "max.length_aspect_ratio        813 non-null int64\n",
      "scatter_ratio                  813 non-null float64\n",
      "elongatedness                  813 non-null float64\n",
      "pr.axis_rectangularity         813 non-null float64\n",
      "max.length_rectangularity      813 non-null int64\n",
      "scaled_variance                813 non-null float64\n",
      "scaled_variance.1              813 non-null float64\n",
      "scaled_radius_of_gyration      813 non-null float64\n",
      "scaled_radius_of_gyration.1    813 non-null float64\n",
      "skewness_about                 813 non-null float64\n",
      "skewness_about.1               813 non-null float64\n",
      "skewness_about.2               813 non-null float64\n",
      "hollows_ratio                  813 non-null int64\n",
      "class                          813 non-null object\n",
      "dtypes: float64(14), int64(4), object(1)\n",
      "memory usage: 127.0+ KB\n"
     ]
    }
   ],
   "source": [
    "print(dataframeNona.isnull().sum()) # Since we have dropped the na values, just checking the there are no null / blank values.\n",
    "print(dataframeNona.describe().transpose())  # to check the count of data points in each column / feature is same after dropping missing values.\n",
    "dataframeNona.info() # checking data type of each feature"
   ]
  },
  {
   "cell_type": "code",
   "execution_count": 4,
   "metadata": {},
   "outputs": [
    {
     "data": {
      "text/plain": [
       "<seaborn.axisgrid.PairGrid at 0x2592abfcc50>"
      ]
     },
     "execution_count": 4,
     "metadata": {},
     "output_type": "execute_result"
    }
   ],
   "source": [
    "# importing ploting libraries\n",
    "import matplotlib.pyplot as plt   \n",
    "\n",
    "#importing seaborn for statistical plots\n",
    "import seaborn as sns\n",
    "\n",
    "# plotting the data to understand the if we can visully any further clusters within cars category\n",
    "sns.pairplot(dataframeNona, diag_kind='kde' , hue = 'class') \n",
    "\n",
    "# Takeaway : Visually we can see distinguishing peaks in cars for these features : Compactness,circularity, distance_circularity, \n",
    "# radius_ratio,scatter ratio, pr.axis_rectangularity, max.length_rectangularity,scaled_variance,scaled_variance.1,hollows_ratio,\n",
    "# scaled_radius_of_gyration,skewness_about.1. This indicates there are further clusters within cars."
   ]
  },
  {
   "cell_type": "code",
   "execution_count": null,
   "metadata": {},
   "outputs": [],
   "source": []
  },
  {
   "cell_type": "markdown",
   "metadata": {},
   "source": [
    "### 3. Standardize the data "
   ]
  },
  {
   "cell_type": "code",
   "execution_count": 5,
   "metadata": {},
   "outputs": [
    {
     "name": "stderr",
     "output_type": "stream",
     "text": [
      "C:\\Users\\Aadee\\Anaconda3\\lib\\site-packages\\ipykernel_launcher.py:3: SettingWithCopyWarning: \n",
      "A value is trying to be set on a copy of a slice from a DataFrame.\n",
      "Try using .loc[row_indexer,col_indexer] = value instead\n",
      "\n",
      "See the caveats in the documentation: http://pandas.pydata.org/pandas-docs/stable/indexing.html#indexing-view-versus-copy\n",
      "  This is separate from the ipykernel package so we can avoid doing imports until\n"
     ]
    },
    {
     "data": {
      "text/html": [
       "<div>\n",
       "<style scoped>\n",
       "    .dataframe tbody tr th:only-of-type {\n",
       "        vertical-align: middle;\n",
       "    }\n",
       "\n",
       "    .dataframe tbody tr th {\n",
       "        vertical-align: top;\n",
       "    }\n",
       "\n",
       "    .dataframe thead th {\n",
       "        text-align: right;\n",
       "    }\n",
       "</style>\n",
       "<table border=\"1\" class=\"dataframe\">\n",
       "  <thead>\n",
       "    <tr style=\"text-align: right;\">\n",
       "      <th></th>\n",
       "      <th>compactness</th>\n",
       "      <th>circularity</th>\n",
       "      <th>distance_circularity</th>\n",
       "      <th>radius_ratio</th>\n",
       "      <th>pr.axis_aspect_ratio</th>\n",
       "      <th>max.length_aspect_ratio</th>\n",
       "      <th>scatter_ratio</th>\n",
       "      <th>elongatedness</th>\n",
       "      <th>pr.axis_rectangularity</th>\n",
       "      <th>max.length_rectangularity</th>\n",
       "      <th>scaled_variance</th>\n",
       "      <th>scaled_variance.1</th>\n",
       "      <th>scaled_radius_of_gyration</th>\n",
       "      <th>scaled_radius_of_gyration.1</th>\n",
       "      <th>skewness_about</th>\n",
       "      <th>skewness_about.1</th>\n",
       "      <th>skewness_about.2</th>\n",
       "      <th>hollows_ratio</th>\n",
       "      <th>class</th>\n",
       "    </tr>\n",
       "  </thead>\n",
       "  <tbody>\n",
       "    <tr>\n",
       "      <th>0</th>\n",
       "      <td>0.163231</td>\n",
       "      <td>0.520408</td>\n",
       "      <td>0.060669</td>\n",
       "      <td>0.264970</td>\n",
       "      <td>1.283254</td>\n",
       "      <td>0.299721</td>\n",
       "      <td>-0.198517</td>\n",
       "      <td>0.129648</td>\n",
       "      <td>-0.217151</td>\n",
       "      <td>0.766312</td>\n",
       "      <td>-0.397397</td>\n",
       "      <td>-0.339014</td>\n",
       "      <td>0.301676</td>\n",
       "      <td>-0.321192</td>\n",
       "      <td>-0.071523</td>\n",
       "      <td>0.371287</td>\n",
       "      <td>-0.321809</td>\n",
       "      <td>0.171837</td>\n",
       "      <td>1.443415</td>\n",
       "    </tr>\n",
       "    <tr>\n",
       "      <th>1</th>\n",
       "      <td>-0.322874</td>\n",
       "      <td>-0.619123</td>\n",
       "      <td>0.124067</td>\n",
       "      <td>-0.836393</td>\n",
       "      <td>-0.599253</td>\n",
       "      <td>0.085785</td>\n",
       "      <td>-0.591720</td>\n",
       "      <td>0.514333</td>\n",
       "      <td>-0.606014</td>\n",
       "      <td>-0.337462</td>\n",
       "      <td>-0.590034</td>\n",
       "      <td>-0.618754</td>\n",
       "      <td>-0.502972</td>\n",
       "      <td>-0.053505</td>\n",
       "      <td>0.538425</td>\n",
       "      <td>0.147109</td>\n",
       "      <td>0.003400</td>\n",
       "      <td>0.442318</td>\n",
       "      <td>1.443415</td>\n",
       "    </tr>\n",
       "    <tr>\n",
       "      <th>2</th>\n",
       "      <td>1.256966</td>\n",
       "      <td>0.845988</td>\n",
       "      <td>1.518823</td>\n",
       "      <td>1.187734</td>\n",
       "      <td>0.530251</td>\n",
       "      <td>0.299721</td>\n",
       "      <td>1.162569</td>\n",
       "      <td>-1.152637</td>\n",
       "      <td>0.949438</td>\n",
       "      <td>0.697326</td>\n",
       "      <td>1.111591</td>\n",
       "      <td>1.122486</td>\n",
       "      <td>1.415804</td>\n",
       "      <td>0.080339</td>\n",
       "      <td>1.555006</td>\n",
       "      <td>-0.413338</td>\n",
       "      <td>-0.159204</td>\n",
       "      <td>0.036596</td>\n",
       "      <td>0.017538</td>\n",
       "    </tr>\n",
       "    <tr>\n",
       "      <th>3</th>\n",
       "      <td>-0.079822</td>\n",
       "      <td>-0.619123</td>\n",
       "      <td>-0.002729</td>\n",
       "      <td>-0.300595</td>\n",
       "      <td>0.153750</td>\n",
       "      <td>0.085785</td>\n",
       "      <td>-0.742952</td>\n",
       "      <td>0.642562</td>\n",
       "      <td>-0.606014</td>\n",
       "      <td>-0.337462</td>\n",
       "      <td>-0.911095</td>\n",
       "      <td>-0.738643</td>\n",
       "      <td>-1.462359</td>\n",
       "      <td>-1.258099</td>\n",
       "      <td>-0.071523</td>\n",
       "      <td>-0.301249</td>\n",
       "      <td>1.629444</td>\n",
       "      <td>1.524243</td>\n",
       "      <td>1.443415</td>\n",
       "    </tr>\n",
       "    <tr>\n",
       "      <th>4</th>\n",
       "      <td>-1.052030</td>\n",
       "      <td>-0.130753</td>\n",
       "      <td>-0.763506</td>\n",
       "      <td>1.068668</td>\n",
       "      <td>5.173770</td>\n",
       "      <td>9.285029</td>\n",
       "      <td>-0.591720</td>\n",
       "      <td>0.514333</td>\n",
       "      <td>-0.606014</td>\n",
       "      <td>-0.268476</td>\n",
       "      <td>1.689501</td>\n",
       "      <td>-0.647299</td>\n",
       "      <td>0.425468</td>\n",
       "      <td>7.307905</td>\n",
       "      <td>0.538425</td>\n",
       "      <td>-0.189159</td>\n",
       "      <td>-1.460039</td>\n",
       "      <td>-1.721531</td>\n",
       "      <td>-1.408339</td>\n",
       "    </tr>\n",
       "    <tr>\n",
       "      <th>6</th>\n",
       "      <td>0.406283</td>\n",
       "      <td>-0.293543</td>\n",
       "      <td>-0.573312</td>\n",
       "      <td>0.116137</td>\n",
       "      <td>0.404751</td>\n",
       "      <td>-0.556023</td>\n",
       "      <td>-0.470734</td>\n",
       "      <td>0.129648</td>\n",
       "      <td>-0.606014</td>\n",
       "      <td>-0.337462</td>\n",
       "      <td>-0.397397</td>\n",
       "      <td>-0.441776</td>\n",
       "      <td>-0.069700</td>\n",
       "      <td>-0.856567</td>\n",
       "      <td>1.351690</td>\n",
       "      <td>-1.310052</td>\n",
       "      <td>1.792048</td>\n",
       "      <td>1.118521</td>\n",
       "      <td>-1.408339</td>\n",
       "    </tr>\n",
       "    <tr>\n",
       "      <th>7</th>\n",
       "      <td>-0.444400</td>\n",
       "      <td>-0.293543</td>\n",
       "      <td>-1.017098</td>\n",
       "      <td>-0.360128</td>\n",
       "      <td>0.404751</td>\n",
       "      <td>0.085785</td>\n",
       "      <td>-0.954676</td>\n",
       "      <td>0.899019</td>\n",
       "      <td>-0.994877</td>\n",
       "      <td>-0.130505</td>\n",
       "      <td>-0.846883</td>\n",
       "      <td>-0.898494</td>\n",
       "      <td>-0.317284</td>\n",
       "      <td>-0.722724</td>\n",
       "      <td>-0.681472</td>\n",
       "      <td>-1.085874</td>\n",
       "      <td>0.653818</td>\n",
       "      <td>0.848040</td>\n",
       "      <td>1.443415</td>\n",
       "    </tr>\n",
       "    <tr>\n",
       "      <th>8</th>\n",
       "      <td>-0.930504</td>\n",
       "      <td>-1.758654</td>\n",
       "      <td>-1.270690</td>\n",
       "      <td>-0.866160</td>\n",
       "      <td>-0.097251</td>\n",
       "      <td>-0.342087</td>\n",
       "      <td>-1.408372</td>\n",
       "      <td>1.668390</td>\n",
       "      <td>-1.383740</td>\n",
       "      <td>-1.441236</td>\n",
       "      <td>-1.521112</td>\n",
       "      <td>-1.229615</td>\n",
       "      <td>-1.926579</td>\n",
       "      <td>-1.124255</td>\n",
       "      <td>-0.884788</td>\n",
       "      <td>0.147109</td>\n",
       "      <td>1.792048</td>\n",
       "      <td>1.659484</td>\n",
       "      <td>1.443415</td>\n",
       "    </tr>\n",
       "    <tr>\n",
       "      <th>10</th>\n",
       "      <td>-0.930504</td>\n",
       "      <td>-1.433074</td>\n",
       "      <td>-0.763506</td>\n",
       "      <td>-0.776860</td>\n",
       "      <td>-0.097251</td>\n",
       "      <td>0.085785</td>\n",
       "      <td>-1.075662</td>\n",
       "      <td>1.155476</td>\n",
       "      <td>-0.994877</td>\n",
       "      <td>-1.234278</td>\n",
       "      <td>-1.135838</td>\n",
       "      <td>-0.984129</td>\n",
       "      <td>-1.462359</td>\n",
       "      <td>-0.856567</td>\n",
       "      <td>-0.884788</td>\n",
       "      <td>-0.301249</td>\n",
       "      <td>0.816422</td>\n",
       "      <td>0.848040</td>\n",
       "      <td>1.443415</td>\n",
       "    </tr>\n",
       "    <tr>\n",
       "      <th>11</th>\n",
       "      <td>-0.444400</td>\n",
       "      <td>-1.758654</td>\n",
       "      <td>-1.017098</td>\n",
       "      <td>-0.985226</td>\n",
       "      <td>-0.850254</td>\n",
       "      <td>-0.556023</td>\n",
       "      <td>-1.378125</td>\n",
       "      <td>1.668390</td>\n",
       "      <td>-1.383740</td>\n",
       "      <td>-2.062109</td>\n",
       "      <td>-1.296369</td>\n",
       "      <td>-1.223906</td>\n",
       "      <td>-1.740891</td>\n",
       "      <td>-0.990411</td>\n",
       "      <td>-0.274839</td>\n",
       "      <td>1.492180</td>\n",
       "      <td>1.141631</td>\n",
       "      <td>0.848040</td>\n",
       "      <td>0.017538</td>\n",
       "    </tr>\n",
       "  </tbody>\n",
       "</table>\n",
       "</div>"
      ],
      "text/plain": [
       "    compactness  circularity  distance_circularity  radius_ratio  \\\n",
       "0      0.163231     0.520408              0.060669      0.264970   \n",
       "1     -0.322874    -0.619123              0.124067     -0.836393   \n",
       "2      1.256966     0.845988              1.518823      1.187734   \n",
       "3     -0.079822    -0.619123             -0.002729     -0.300595   \n",
       "4     -1.052030    -0.130753             -0.763506      1.068668   \n",
       "6      0.406283    -0.293543             -0.573312      0.116137   \n",
       "7     -0.444400    -0.293543             -1.017098     -0.360128   \n",
       "8     -0.930504    -1.758654             -1.270690     -0.866160   \n",
       "10    -0.930504    -1.433074             -0.763506     -0.776860   \n",
       "11    -0.444400    -1.758654             -1.017098     -0.985226   \n",
       "\n",
       "    pr.axis_aspect_ratio  max.length_aspect_ratio  scatter_ratio  \\\n",
       "0               1.283254                 0.299721      -0.198517   \n",
       "1              -0.599253                 0.085785      -0.591720   \n",
       "2               0.530251                 0.299721       1.162569   \n",
       "3               0.153750                 0.085785      -0.742952   \n",
       "4               5.173770                 9.285029      -0.591720   \n",
       "6               0.404751                -0.556023      -0.470734   \n",
       "7               0.404751                 0.085785      -0.954676   \n",
       "8              -0.097251                -0.342087      -1.408372   \n",
       "10             -0.097251                 0.085785      -1.075662   \n",
       "11             -0.850254                -0.556023      -1.378125   \n",
       "\n",
       "    elongatedness  pr.axis_rectangularity  max.length_rectangularity  \\\n",
       "0        0.129648               -0.217151                   0.766312   \n",
       "1        0.514333               -0.606014                  -0.337462   \n",
       "2       -1.152637                0.949438                   0.697326   \n",
       "3        0.642562               -0.606014                  -0.337462   \n",
       "4        0.514333               -0.606014                  -0.268476   \n",
       "6        0.129648               -0.606014                  -0.337462   \n",
       "7        0.899019               -0.994877                  -0.130505   \n",
       "8        1.668390               -1.383740                  -1.441236   \n",
       "10       1.155476               -0.994877                  -1.234278   \n",
       "11       1.668390               -1.383740                  -2.062109   \n",
       "\n",
       "    scaled_variance  scaled_variance.1  scaled_radius_of_gyration  \\\n",
       "0         -0.397397          -0.339014                   0.301676   \n",
       "1         -0.590034          -0.618754                  -0.502972   \n",
       "2          1.111591           1.122486                   1.415804   \n",
       "3         -0.911095          -0.738643                  -1.462359   \n",
       "4          1.689501          -0.647299                   0.425468   \n",
       "6         -0.397397          -0.441776                  -0.069700   \n",
       "7         -0.846883          -0.898494                  -0.317284   \n",
       "8         -1.521112          -1.229615                  -1.926579   \n",
       "10        -1.135838          -0.984129                  -1.462359   \n",
       "11        -1.296369          -1.223906                  -1.740891   \n",
       "\n",
       "    scaled_radius_of_gyration.1  skewness_about  skewness_about.1  \\\n",
       "0                     -0.321192       -0.071523          0.371287   \n",
       "1                     -0.053505        0.538425          0.147109   \n",
       "2                      0.080339        1.555006         -0.413338   \n",
       "3                     -1.258099       -0.071523         -0.301249   \n",
       "4                      7.307905        0.538425         -0.189159   \n",
       "6                     -0.856567        1.351690         -1.310052   \n",
       "7                     -0.722724       -0.681472         -1.085874   \n",
       "8                     -1.124255       -0.884788          0.147109   \n",
       "10                    -0.856567       -0.884788         -0.301249   \n",
       "11                    -0.990411       -0.274839          1.492180   \n",
       "\n",
       "    skewness_about.2  hollows_ratio     class  \n",
       "0          -0.321809       0.171837  1.443415  \n",
       "1           0.003400       0.442318  1.443415  \n",
       "2          -0.159204       0.036596  0.017538  \n",
       "3           1.629444       1.524243  1.443415  \n",
       "4          -1.460039      -1.721531 -1.408339  \n",
       "6           1.792048       1.118521 -1.408339  \n",
       "7           0.653818       0.848040  1.443415  \n",
       "8           1.792048       1.659484  1.443415  \n",
       "10          0.816422       0.848040  1.443415  \n",
       "11          1.141631       0.848040  0.017538  "
      ]
     },
     "execution_count": 5,
     "metadata": {},
     "output_type": "execute_result"
    }
   ],
   "source": [
    "#Before standardising data , convert class feature to a numeric variable using label encoding method. \n",
    "from sklearn.preprocessing import LabelEncoder\n",
    "dataframeNona[\"class\"] = LabelEncoder().fit_transform(dataframeNona[\"class\"]) # converted to numeric values\n",
    "\n",
    "from scipy.stats import zscore \n",
    "dataframeNona_z = dataframeNona.apply(zscore) # converting to Z score\n",
    "dataframeNona_z.head(10)\n"
   ]
  },
  {
   "cell_type": "markdown",
   "metadata": {},
   "source": [
    "Since the dimensions of the data are not really known to us, it would be wise to standardize the data using z scores before we go for any clustering methods.\n",
    "You can use zscore function to do this"
   ]
  },
  {
   "cell_type": "markdown",
   "metadata": {},
   "source": [
    "### K - Means Clustering"
   ]
  },
  {
   "cell_type": "markdown",
   "metadata": {},
   "source": [
    "### 4. Assign a dummy array called distortion"
   ]
  },
  {
   "cell_type": "code",
   "execution_count": 6,
   "metadata": {},
   "outputs": [
    {
     "data": {
      "text/plain": [
       "[]"
      ]
     },
     "execution_count": 6,
     "metadata": {},
     "output_type": "execute_result"
    }
   ],
   "source": [
    "# creating empty array \n",
    "\n",
    "distortion = []\n",
    "distortion"
   ]
  },
  {
   "cell_type": "markdown",
   "metadata": {},
   "source": [
    "You can later use this array to plot the elbow plot"
   ]
  },
  {
   "cell_type": "markdown",
   "metadata": {},
   "source": [
    "### 5. Calculating distortion - C distance"
   ]
  },
  {
   "cell_type": "code",
   "execution_count": 7,
   "metadata": {},
   "outputs": [
    {
     "data": {
      "text/html": [
       "<div>\n",
       "<style scoped>\n",
       "    .dataframe tbody tr th:only-of-type {\n",
       "        vertical-align: middle;\n",
       "    }\n",
       "\n",
       "    .dataframe tbody tr th {\n",
       "        vertical-align: top;\n",
       "    }\n",
       "\n",
       "    .dataframe thead th {\n",
       "        text-align: right;\n",
       "    }\n",
       "</style>\n",
       "<table border=\"1\" class=\"dataframe\">\n",
       "  <thead>\n",
       "    <tr style=\"text-align: right;\">\n",
       "      <th></th>\n",
       "      <th>num_clusters</th>\n",
       "      <th>cluster_errors</th>\n",
       "      <th>Avg Sil Score</th>\n",
       "    </tr>\n",
       "  </thead>\n",
       "  <tbody>\n",
       "    <tr>\n",
       "      <th>0</th>\n",
       "      <td>2</td>\n",
       "      <td>9415.219195</td>\n",
       "      <td>0.369404</td>\n",
       "    </tr>\n",
       "    <tr>\n",
       "      <th>1</th>\n",
       "      <td>3</td>\n",
       "      <td>7832.622405</td>\n",
       "      <td>0.273652</td>\n",
       "    </tr>\n",
       "    <tr>\n",
       "      <th>2</th>\n",
       "      <td>4</td>\n",
       "      <td>7174.742551</td>\n",
       "      <td>0.285380</td>\n",
       "    </tr>\n",
       "    <tr>\n",
       "      <th>3</th>\n",
       "      <td>5</td>\n",
       "      <td>5881.285480</td>\n",
       "      <td>0.258290</td>\n",
       "    </tr>\n",
       "    <tr>\n",
       "      <th>4</th>\n",
       "      <td>6</td>\n",
       "      <td>5413.908582</td>\n",
       "      <td>0.241546</td>\n",
       "    </tr>\n",
       "    <tr>\n",
       "      <th>5</th>\n",
       "      <td>7</td>\n",
       "      <td>4953.744757</td>\n",
       "      <td>0.246309</td>\n",
       "    </tr>\n",
       "    <tr>\n",
       "      <th>6</th>\n",
       "      <td>8</td>\n",
       "      <td>4562.630581</td>\n",
       "      <td>0.240129</td>\n",
       "    </tr>\n",
       "    <tr>\n",
       "      <th>7</th>\n",
       "      <td>9</td>\n",
       "      <td>4228.245564</td>\n",
       "      <td>0.247106</td>\n",
       "    </tr>\n",
       "  </tbody>\n",
       "</table>\n",
       "</div>"
      ],
      "text/plain": [
       "   num_clusters  cluster_errors  Avg Sil Score\n",
       "0             2     9415.219195       0.369404\n",
       "1             3     7832.622405       0.273652\n",
       "2             4     7174.742551       0.285380\n",
       "3             5     5881.285480       0.258290\n",
       "4             6     5413.908582       0.241546\n",
       "5             7     4953.744757       0.246309\n",
       "6             8     4562.630581       0.240129\n",
       "7             9     4228.245564       0.247106"
      ]
     },
     "execution_count": 7,
     "metadata": {},
     "output_type": "execute_result"
    }
   ],
   "source": [
    "# Import Linear Regression machine learning library\n",
    "from sklearn.cluster import KMeans\n",
    "from sklearn import metrics\n",
    "\n",
    "cluster_range = range( 2, 10)   \n",
    "cluster_sil_scores = []\n",
    "for num_clusters in cluster_range:\n",
    "  clusters = KMeans( num_clusters, n_init = 5)\n",
    "  clusters.fit(dataframeNona_z)\n",
    "  labels = clusters.labels_                     # capture the cluster lables\n",
    "  centroids = clusters.cluster_centers_         # capture the centroids\n",
    "  distortion.append( clusters.inertia_ )    # capture the intertia\n",
    "  cluster_sil_scores.append(metrics.silhouette_score(dataframeNona_z, labels, metric='euclidean')) # getting silhoutte score\n",
    "\n",
    "# combine the cluster_range and cluster_errors into a dataframe \n",
    "clusters_df = pd.DataFrame( { \"num_clusters\":cluster_range, \"cluster_errors\": distortion , \"Avg Sil Score\": cluster_sil_scores } )\n",
    "clusters_df[0:20]"
   ]
  },
  {
   "cell_type": "markdown",
   "metadata": {},
   "source": [
    "Iterating values of k from 1 to 10 fit K means model\n",
    "Using c distance - Get the measure for Sum of squares error."
   ]
  },
  {
   "cell_type": "markdown",
   "metadata": {},
   "source": [
    "### 6. Plotting Elbow/ Scree Plot"
   ]
  },
  {
   "cell_type": "code",
   "execution_count": 8,
   "metadata": {},
   "outputs": [
    {
     "data": {
      "text/plain": [
       "[<matplotlib.lines.Line2D at 0x259424f2780>]"
      ]
     },
     "execution_count": 8,
     "metadata": {},
     "output_type": "execute_result"
    },
    {
     "data": {
      "image/png": "[encoded data removed]",
      "text/plain": [
       "<Figure size 864x432 with 1 Axes>"
      ]
     },
     "metadata": {
      "needs_background": "light"
     },
     "output_type": "display_data"
    }
   ],
   "source": [
    "# Elbow plot\n",
    "\n",
    "plt.figure(figsize=(12,6))\n",
    "plt.plot( clusters_df.num_clusters, clusters_df.cluster_errors, marker = \"o\" )"
   ]
  },
  {
   "cell_type": "markdown",
   "metadata": {},
   "source": [
    "Use Matplotlib to plot the scree plot - Note: Scree plot plots distortion vs the no of clusters"
   ]
  },
  {
   "cell_type": "markdown",
   "metadata": {},
   "source": [
    "### Find out the optimal value of K"
   ]
  },
  {
   "cell_type": "code",
   "execution_count": 9,
   "metadata": {},
   "outputs": [
    {
     "data": {
      "text/plain": [
       "KMeans(algorithm='auto', copy_x=True, init='k-means++', max_iter=300,\n",
       "    n_clusters=5, n_init=10, n_jobs=None, precompute_distances='auto',\n",
       "    random_state=1, tol=0.0001, verbose=0)"
      ]
     },
     "execution_count": 9,
     "metadata": {},
     "output_type": "execute_result"
    }
   ],
   "source": [
    "# At k=  5 or 6 we see a sudden drop in distortion.Choosing 5 as the optimal value of k.\n",
    "\n",
    "cluster = KMeans( n_clusters = 5, random_state = 1 )\n",
    "cluster.fit(dataframeNona_z)"
   ]
  },
  {
   "cell_type": "markdown",
   "metadata": {},
   "source": [
    "### Using optimal value of K - Cluster the data. \n",
    "Note: Since the data has more than 2 dimension we cannot visualize the data. As an alternative, we can observe the centroids and note how they are distributed across different dimensions"
   ]
  },
  {
   "cell_type": "code",
   "execution_count": 10,
   "metadata": {},
   "outputs": [
    {
     "data": {
      "text/plain": [
       "array([[-0.37775652, -0.42482526, -0.42674627, -0.6205056 , -0.184292  ,\n",
       "         0.02827523, -0.75531043,  0.76665403, -0.72100016, -0.19578155,\n",
       "        -0.77921856, -0.74677647, -0.51079174, -0.41905651,  0.02139003,\n",
       "        -0.29944069,  0.31374719,  0.40232779,  1.19810328],\n",
       "       [-0.07556816, -0.46935625, -0.12445354,  0.35233508,  0.35266801,\n",
       "        -0.25651258, -0.11927184, -0.11719185, -0.18993057, -0.54441974,\n",
       "        -0.04647728, -0.15104561, -0.47542783, -0.57148014, -0.16199897,\n",
       "         0.18129581,  0.87739873,  0.6451792 , -0.60271803],\n",
       "       [ 1.20466313,  1.25055949,  1.26416134,  0.97786094,  0.06955316,\n",
       "         0.24736517,  1.35910624, -1.25110771,  1.37275667,  1.16945671,\n",
       "         1.25315582,  1.37454824,  1.16417218, -0.08400066,  0.18240746,\n",
       "         0.27102163, -0.05423185,  0.17411962, -0.21108316],\n",
       "       [-1.06738804, -0.68173478, -1.06133713, -1.15597519, -0.59028904,\n",
       "        -0.45140585, -0.84332972,  0.95397398, -0.81753813, -0.73697367,\n",
       "        -0.85905519, -0.83491121, -0.48086584,  0.94738235, -0.06928903,\n",
       "        -0.23596581, -1.18307595, -1.32695579, -0.31934456],\n",
       "       [-0.73302434,  0.07273496, -0.27217095,  2.94768327,  6.8366519 ,\n",
       "         8.69670551, -0.535008  ,  0.46624777, -0.55740597,  0.28341053,\n",
       "         1.69752769, -0.58806827,  0.21270086,  4.96563826, -0.27483944,\n",
       "        -0.23119278, -0.70799414, -0.45365072,  0.73047696]])"
      ]
     },
     "execution_count": 10,
     "metadata": {},
     "output_type": "execute_result"
    }
   ],
   "source": [
    "\n",
    "centroids = cluster.cluster_centers_\n",
    "centroids"
   ]
  },
  {
   "cell_type": "markdown",
   "metadata": {},
   "source": [
    "You can use kmeans.cluster_centers_ function to pull the centroid information from the instance"
   ]
  },
  {
   "cell_type": "markdown",
   "metadata": {},
   "source": [
    "### 7. Store the centroids in a dataframe with column names from the original dataset given "
   ]
  },
  {
   "cell_type": "code",
   "execution_count": 11,
   "metadata": {},
   "outputs": [
    {
     "data": {
      "text/html": [
       "<div>\n",
       "<style scoped>\n",
       "    .dataframe tbody tr th:only-of-type {\n",
       "        vertical-align: middle;\n",
       "    }\n",
       "\n",
       "    .dataframe tbody tr th {\n",
       "        vertical-align: top;\n",
       "    }\n",
       "\n",
       "    .dataframe thead th {\n",
       "        text-align: right;\n",
       "    }\n",
       "</style>\n",
       "<table border=\"1\" class=\"dataframe\">\n",
       "  <thead>\n",
       "    <tr style=\"text-align: right;\">\n",
       "      <th></th>\n",
       "      <th>compactness</th>\n",
       "      <th>circularity</th>\n",
       "      <th>distance_circularity</th>\n",
       "      <th>radius_ratio</th>\n",
       "      <th>pr.axis_aspect_ratio</th>\n",
       "      <th>max.length_aspect_ratio</th>\n",
       "      <th>scatter_ratio</th>\n",
       "      <th>elongatedness</th>\n",
       "      <th>pr.axis_rectangularity</th>\n",
       "      <th>max.length_rectangularity</th>\n",
       "      <th>scaled_variance</th>\n",
       "      <th>scaled_variance.1</th>\n",
       "      <th>scaled_radius_of_gyration</th>\n",
       "      <th>scaled_radius_of_gyration.1</th>\n",
       "      <th>skewness_about</th>\n",
       "      <th>skewness_about.1</th>\n",
       "      <th>skewness_about.2</th>\n",
       "      <th>hollows_ratio</th>\n",
       "      <th>class</th>\n",
       "    </tr>\n",
       "  </thead>\n",
       "  <tbody>\n",
       "    <tr>\n",
       "      <th>0</th>\n",
       "      <td>-0.377757</td>\n",
       "      <td>-0.424825</td>\n",
       "      <td>-0.426746</td>\n",
       "      <td>-0.620506</td>\n",
       "      <td>-0.184292</td>\n",
       "      <td>0.028275</td>\n",
       "      <td>-0.755310</td>\n",
       "      <td>0.766654</td>\n",
       "      <td>-0.721000</td>\n",
       "      <td>-0.195782</td>\n",
       "      <td>-0.779219</td>\n",
       "      <td>-0.746776</td>\n",
       "      <td>-0.510792</td>\n",
       "      <td>-0.419057</td>\n",
       "      <td>0.021390</td>\n",
       "      <td>-0.299441</td>\n",
       "      <td>0.313747</td>\n",
       "      <td>0.402328</td>\n",
       "      <td>1.198103</td>\n",
       "    </tr>\n",
       "    <tr>\n",
       "      <th>1</th>\n",
       "      <td>-0.075568</td>\n",
       "      <td>-0.469356</td>\n",
       "      <td>-0.124454</td>\n",
       "      <td>0.352335</td>\n",
       "      <td>0.352668</td>\n",
       "      <td>-0.256513</td>\n",
       "      <td>-0.119272</td>\n",
       "      <td>-0.117192</td>\n",
       "      <td>-0.189931</td>\n",
       "      <td>-0.544420</td>\n",
       "      <td>-0.046477</td>\n",
       "      <td>-0.151046</td>\n",
       "      <td>-0.475428</td>\n",
       "      <td>-0.571480</td>\n",
       "      <td>-0.161999</td>\n",
       "      <td>0.181296</td>\n",
       "      <td>0.877399</td>\n",
       "      <td>0.645179</td>\n",
       "      <td>-0.602718</td>\n",
       "    </tr>\n",
       "    <tr>\n",
       "      <th>2</th>\n",
       "      <td>1.204663</td>\n",
       "      <td>1.250559</td>\n",
       "      <td>1.264161</td>\n",
       "      <td>0.977861</td>\n",
       "      <td>0.069553</td>\n",
       "      <td>0.247365</td>\n",
       "      <td>1.359106</td>\n",
       "      <td>-1.251108</td>\n",
       "      <td>1.372757</td>\n",
       "      <td>1.169457</td>\n",
       "      <td>1.253156</td>\n",
       "      <td>1.374548</td>\n",
       "      <td>1.164172</td>\n",
       "      <td>-0.084001</td>\n",
       "      <td>0.182407</td>\n",
       "      <td>0.271022</td>\n",
       "      <td>-0.054232</td>\n",
       "      <td>0.174120</td>\n",
       "      <td>-0.211083</td>\n",
       "    </tr>\n",
       "    <tr>\n",
       "      <th>3</th>\n",
       "      <td>-1.067388</td>\n",
       "      <td>-0.681735</td>\n",
       "      <td>-1.061337</td>\n",
       "      <td>-1.155975</td>\n",
       "      <td>-0.590289</td>\n",
       "      <td>-0.451406</td>\n",
       "      <td>-0.843330</td>\n",
       "      <td>0.953974</td>\n",
       "      <td>-0.817538</td>\n",
       "      <td>-0.736974</td>\n",
       "      <td>-0.859055</td>\n",
       "      <td>-0.834911</td>\n",
       "      <td>-0.480866</td>\n",
       "      <td>0.947382</td>\n",
       "      <td>-0.069289</td>\n",
       "      <td>-0.235966</td>\n",
       "      <td>-1.183076</td>\n",
       "      <td>-1.326956</td>\n",
       "      <td>-0.319345</td>\n",
       "    </tr>\n",
       "    <tr>\n",
       "      <th>4</th>\n",
       "      <td>-0.733024</td>\n",
       "      <td>0.072735</td>\n",
       "      <td>-0.272171</td>\n",
       "      <td>2.947683</td>\n",
       "      <td>6.836652</td>\n",
       "      <td>8.696706</td>\n",
       "      <td>-0.535008</td>\n",
       "      <td>0.466248</td>\n",
       "      <td>-0.557406</td>\n",
       "      <td>0.283411</td>\n",
       "      <td>1.697528</td>\n",
       "      <td>-0.588068</td>\n",
       "      <td>0.212701</td>\n",
       "      <td>4.965638</td>\n",
       "      <td>-0.274839</td>\n",
       "      <td>-0.231193</td>\n",
       "      <td>-0.707994</td>\n",
       "      <td>-0.453651</td>\n",
       "      <td>0.730477</td>\n",
       "    </tr>\n",
       "  </tbody>\n",
       "</table>\n",
       "</div>"
      ],
      "text/plain": [
       "   compactness  circularity  distance_circularity  radius_ratio  \\\n",
       "0    -0.377757    -0.424825             -0.426746     -0.620506   \n",
       "1    -0.075568    -0.469356             -0.124454      0.352335   \n",
       "2     1.204663     1.250559              1.264161      0.977861   \n",
       "3    -1.067388    -0.681735             -1.061337     -1.155975   \n",
       "4    -0.733024     0.072735             -0.272171      2.947683   \n",
       "\n",
       "   pr.axis_aspect_ratio  max.length_aspect_ratio  scatter_ratio  \\\n",
       "0             -0.184292                 0.028275      -0.755310   \n",
       "1              0.352668                -0.256513      -0.119272   \n",
       "2              0.069553                 0.247365       1.359106   \n",
       "3             -0.590289                -0.451406      -0.843330   \n",
       "4              6.836652                 8.696706      -0.535008   \n",
       "\n",
       "   elongatedness  pr.axis_rectangularity  max.length_rectangularity  \\\n",
       "0       0.766654               -0.721000                  -0.195782   \n",
       "1      -0.117192               -0.189931                  -0.544420   \n",
       "2      -1.251108                1.372757                   1.169457   \n",
       "3       0.953974               -0.817538                  -0.736974   \n",
       "4       0.466248               -0.557406                   0.283411   \n",
       "\n",
       "   scaled_variance  scaled_variance.1  scaled_radius_of_gyration  \\\n",
       "0        -0.779219          -0.746776                  -0.510792   \n",
       "1        -0.046477          -0.151046                  -0.475428   \n",
       "2         1.253156           1.374548                   1.164172   \n",
       "3        -0.859055          -0.834911                  -0.480866   \n",
       "4         1.697528          -0.588068                   0.212701   \n",
       "\n",
       "   scaled_radius_of_gyration.1  skewness_about  skewness_about.1  \\\n",
       "0                    -0.419057        0.021390         -0.299441   \n",
       "1                    -0.571480       -0.161999          0.181296   \n",
       "2                    -0.084001        0.182407          0.271022   \n",
       "3                     0.947382       -0.069289         -0.235966   \n",
       "4                     4.965638       -0.274839         -0.231193   \n",
       "\n",
       "   skewness_about.2  hollows_ratio     class  \n",
       "0          0.313747       0.402328  1.198103  \n",
       "1          0.877399       0.645179 -0.602718  \n",
       "2         -0.054232       0.174120 -0.211083  \n",
       "3         -1.183076      -1.326956 -0.319345  \n",
       "4         -0.707994      -0.453651  0.730477  "
      ]
     },
     "execution_count": 11,
     "metadata": {},
     "output_type": "execute_result"
    }
   ],
   "source": [
    "centroid_df = pd.DataFrame(centroids, columns = list(dataframeNona_z) )\n",
    "centroid_df"
   ]
  },
  {
   "cell_type": "markdown",
   "metadata": {},
   "source": [
    "Hint: Use pd.Dataframe function "
   ]
  },
  {
   "cell_type": "code",
   "execution_count": 12,
   "metadata": {},
   "outputs": [
    {
     "data": {
      "text/html": [
       "<div>\n",
       "<style scoped>\n",
       "    .dataframe tbody tr th:only-of-type {\n",
       "        vertical-align: middle;\n",
       "    }\n",
       "\n",
       "    .dataframe tbody tr th {\n",
       "        vertical-align: top;\n",
       "    }\n",
       "\n",
       "    .dataframe thead th {\n",
       "        text-align: right;\n",
       "    }\n",
       "</style>\n",
       "<table border=\"1\" class=\"dataframe\">\n",
       "  <thead>\n",
       "    <tr style=\"text-align: right;\">\n",
       "      <th></th>\n",
       "      <th>compactness</th>\n",
       "      <th>circularity</th>\n",
       "      <th>distance_circularity</th>\n",
       "      <th>radius_ratio</th>\n",
       "      <th>pr.axis_aspect_ratio</th>\n",
       "      <th>max.length_aspect_ratio</th>\n",
       "      <th>scatter_ratio</th>\n",
       "      <th>elongatedness</th>\n",
       "      <th>pr.axis_rectangularity</th>\n",
       "      <th>max.length_rectangularity</th>\n",
       "      <th>scaled_variance</th>\n",
       "      <th>scaled_variance.1</th>\n",
       "      <th>scaled_radius_of_gyration</th>\n",
       "      <th>scaled_radius_of_gyration.1</th>\n",
       "      <th>skewness_about</th>\n",
       "      <th>skewness_about.1</th>\n",
       "      <th>skewness_about.2</th>\n",
       "      <th>hollows_ratio</th>\n",
       "      <th>class</th>\n",
       "    </tr>\n",
       "    <tr>\n",
       "      <th>GROUP</th>\n",
       "      <th></th>\n",
       "      <th></th>\n",
       "      <th></th>\n",
       "      <th></th>\n",
       "      <th></th>\n",
       "      <th></th>\n",
       "      <th></th>\n",
       "      <th></th>\n",
       "      <th></th>\n",
       "      <th></th>\n",
       "      <th></th>\n",
       "      <th></th>\n",
       "      <th></th>\n",
       "      <th></th>\n",
       "      <th></th>\n",
       "      <th></th>\n",
       "      <th></th>\n",
       "      <th></th>\n",
       "      <th></th>\n",
       "    </tr>\n",
       "  </thead>\n",
       "  <tbody>\n",
       "    <tr>\n",
       "      <th>0</th>\n",
       "      <td>186</td>\n",
       "      <td>186</td>\n",
       "      <td>186</td>\n",
       "      <td>186</td>\n",
       "      <td>186</td>\n",
       "      <td>186</td>\n",
       "      <td>186</td>\n",
       "      <td>186</td>\n",
       "      <td>186</td>\n",
       "      <td>186</td>\n",
       "      <td>186</td>\n",
       "      <td>186</td>\n",
       "      <td>186</td>\n",
       "      <td>186</td>\n",
       "      <td>186</td>\n",
       "      <td>186</td>\n",
       "      <td>186</td>\n",
       "      <td>186</td>\n",
       "      <td>186</td>\n",
       "    </tr>\n",
       "    <tr>\n",
       "      <th>1</th>\n",
       "      <td>200</td>\n",
       "      <td>200</td>\n",
       "      <td>200</td>\n",
       "      <td>200</td>\n",
       "      <td>200</td>\n",
       "      <td>200</td>\n",
       "      <td>200</td>\n",
       "      <td>200</td>\n",
       "      <td>200</td>\n",
       "      <td>200</td>\n",
       "      <td>200</td>\n",
       "      <td>200</td>\n",
       "      <td>200</td>\n",
       "      <td>200</td>\n",
       "      <td>200</td>\n",
       "      <td>200</td>\n",
       "      <td>200</td>\n",
       "      <td>200</td>\n",
       "      <td>200</td>\n",
       "    </tr>\n",
       "    <tr>\n",
       "      <th>2</th>\n",
       "      <td>237</td>\n",
       "      <td>237</td>\n",
       "      <td>237</td>\n",
       "      <td>237</td>\n",
       "      <td>237</td>\n",
       "      <td>237</td>\n",
       "      <td>237</td>\n",
       "      <td>237</td>\n",
       "      <td>237</td>\n",
       "      <td>237</td>\n",
       "      <td>237</td>\n",
       "      <td>237</td>\n",
       "      <td>237</td>\n",
       "      <td>237</td>\n",
       "      <td>237</td>\n",
       "      <td>237</td>\n",
       "      <td>237</td>\n",
       "      <td>237</td>\n",
       "      <td>237</td>\n",
       "    </tr>\n",
       "    <tr>\n",
       "      <th>3</th>\n",
       "      <td>182</td>\n",
       "      <td>182</td>\n",
       "      <td>182</td>\n",
       "      <td>182</td>\n",
       "      <td>182</td>\n",
       "      <td>182</td>\n",
       "      <td>182</td>\n",
       "      <td>182</td>\n",
       "      <td>182</td>\n",
       "      <td>182</td>\n",
       "      <td>182</td>\n",
       "      <td>182</td>\n",
       "      <td>182</td>\n",
       "      <td>182</td>\n",
       "      <td>182</td>\n",
       "      <td>182</td>\n",
       "      <td>182</td>\n",
       "      <td>182</td>\n",
       "      <td>182</td>\n",
       "    </tr>\n",
       "    <tr>\n",
       "      <th>4</th>\n",
       "      <td>8</td>\n",
       "      <td>8</td>\n",
       "      <td>8</td>\n",
       "      <td>8</td>\n",
       "      <td>8</td>\n",
       "      <td>8</td>\n",
       "      <td>8</td>\n",
       "      <td>8</td>\n",
       "      <td>8</td>\n",
       "      <td>8</td>\n",
       "      <td>8</td>\n",
       "      <td>8</td>\n",
       "      <td>8</td>\n",
       "      <td>8</td>\n",
       "      <td>8</td>\n",
       "      <td>8</td>\n",
       "      <td>8</td>\n",
       "      <td>8</td>\n",
       "      <td>8</td>\n",
       "    </tr>\n",
       "  </tbody>\n",
       "</table>\n",
       "</div>"
      ],
      "text/plain": [
       "       compactness  circularity  distance_circularity  radius_ratio  \\\n",
       "GROUP                                                                 \n",
       "0              186          186                   186           186   \n",
       "1              200          200                   200           200   \n",
       "2              237          237                   237           237   \n",
       "3              182          182                   182           182   \n",
       "4                8            8                     8             8   \n",
       "\n",
       "       pr.axis_aspect_ratio  max.length_aspect_ratio  scatter_ratio  \\\n",
       "GROUP                                                                 \n",
       "0                       186                      186            186   \n",
       "1                       200                      200            200   \n",
       "2                       237                      237            237   \n",
       "3                       182                      182            182   \n",
       "4                         8                        8              8   \n",
       "\n",
       "       elongatedness  pr.axis_rectangularity  max.length_rectangularity  \\\n",
       "GROUP                                                                     \n",
       "0                186                     186                        186   \n",
       "1                200                     200                        200   \n",
       "2                237                     237                        237   \n",
       "3                182                     182                        182   \n",
       "4                  8                       8                          8   \n",
       "\n",
       "       scaled_variance  scaled_variance.1  scaled_radius_of_gyration  \\\n",
       "GROUP                                                                  \n",
       "0                  186                186                        186   \n",
       "1                  200                200                        200   \n",
       "2                  237                237                        237   \n",
       "3                  182                182                        182   \n",
       "4                    8                  8                          8   \n",
       "\n",
       "       scaled_radius_of_gyration.1  skewness_about  skewness_about.1  \\\n",
       "GROUP                                                                  \n",
       "0                              186             186               186   \n",
       "1                              200             200               200   \n",
       "2                              237             237               237   \n",
       "3                              182             182               182   \n",
       "4                                8               8                 8   \n",
       "\n",
       "       skewness_about.2  hollows_ratio  class  \n",
       "GROUP                                          \n",
       "0                   186            186    186  \n",
       "1                   200            200    200  \n",
       "2                   237            237    237  \n",
       "3                   182            182    182  \n",
       "4                     8              8      8  "
      ]
     },
     "execution_count": 12,
     "metadata": {},
     "output_type": "execute_result"
    }
   ],
   "source": [
    "prediction=cluster.predict(dataframeNona_z)\n",
    "dataframeNona_z[\"GROUP\"] = prediction\n",
    "\n",
    "\n",
    "dataframeNona_z.groupby(\"GROUP\").count()\n"
   ]
  },
  {
   "cell_type": "code",
   "execution_count": 13,
   "metadata": {},
   "outputs": [
    {
     "data": {
      "text/plain": [
       "array([[<matplotlib.axes._subplots.AxesSubplot object at 0x0000025942B7AFD0>,\n",
       "        <matplotlib.axes._subplots.AxesSubplot object at 0x0000025942BC7C88>,\n",
       "        <matplotlib.axes._subplots.AxesSubplot object at 0x00000259429F2F60>,\n",
       "        <matplotlib.axes._subplots.AxesSubplot object at 0x0000025942A21278>,\n",
       "        <matplotlib.axes._subplots.AxesSubplot object at 0x0000025942A47550>,\n",
       "        <matplotlib.axes._subplots.AxesSubplot object at 0x0000025942A70828>,\n",
       "        <matplotlib.axes._subplots.AxesSubplot object at 0x0000025942A99B00>,\n",
       "        <matplotlib.axes._subplots.AxesSubplot object at 0x0000025942AC1E10>,\n",
       "        <matplotlib.axes._subplots.AxesSubplot object at 0x0000025942AC1E48>,\n",
       "        <matplotlib.axes._subplots.AxesSubplot object at 0x0000025942B1C3C8>],\n",
       "       [<matplotlib.axes._subplots.AxesSubplot object at 0x0000025942B446A0>,\n",
       "        <matplotlib.axes._subplots.AxesSubplot object at 0x0000025942BED978>,\n",
       "        <matplotlib.axes._subplots.AxesSubplot object at 0x0000025942C15C50>,\n",
       "        <matplotlib.axes._subplots.AxesSubplot object at 0x0000025942C3EF28>,\n",
       "        <matplotlib.axes._subplots.AxesSubplot object at 0x0000025942C70240>,\n",
       "        <matplotlib.axes._subplots.AxesSubplot object at 0x0000025942C98518>,\n",
       "        <matplotlib.axes._subplots.AxesSubplot object at 0x0000025942CC27F0>,\n",
       "        <matplotlib.axes._subplots.AxesSubplot object at 0x0000025942CEBAC8>,\n",
       "        <matplotlib.axes._subplots.AxesSubplot object at 0x0000025942D15DA0>,\n",
       "        <matplotlib.axes._subplots.AxesSubplot object at 0x0000025942D470B8>],\n",
       "       [<matplotlib.axes._subplots.AxesSubplot object at 0x0000025942D6D630>,\n",
       "        <matplotlib.axes._subplots.AxesSubplot object at 0x0000025942D95BA8>,\n",
       "        <matplotlib.axes._subplots.AxesSubplot object at 0x0000025942DC8160>,\n",
       "        <matplotlib.axes._subplots.AxesSubplot object at 0x0000025942DEE6D8>,\n",
       "        <matplotlib.axes._subplots.AxesSubplot object at 0x0000025942E17C50>,\n",
       "        <matplotlib.axes._subplots.AxesSubplot object at 0x0000025942E4A208>,\n",
       "        <matplotlib.axes._subplots.AxesSubplot object at 0x0000025942E70780>,\n",
       "        <matplotlib.axes._subplots.AxesSubplot object at 0x0000025942E98CF8>,\n",
       "        <matplotlib.axes._subplots.AxesSubplot object at 0x0000025942EC92B0>,\n",
       "        <matplotlib.axes._subplots.AxesSubplot object at 0x0000025944222828>],\n",
       "       [<matplotlib.axes._subplots.AxesSubplot object at 0x0000025944249DA0>,\n",
       "        <matplotlib.axes._subplots.AxesSubplot object at 0x000002594427C358>,\n",
       "        <matplotlib.axes._subplots.AxesSubplot object at 0x00000259442A28D0>,\n",
       "        <matplotlib.axes._subplots.AxesSubplot object at 0x00000259442CBE48>,\n",
       "        <matplotlib.axes._subplots.AxesSubplot object at 0x00000259442FC400>,\n",
       "        <matplotlib.axes._subplots.AxesSubplot object at 0x0000025944324978>,\n",
       "        <matplotlib.axes._subplots.AxesSubplot object at 0x000002594434AEF0>,\n",
       "        <matplotlib.axes._subplots.AxesSubplot object at 0x000002594437B4A8>,\n",
       "        <matplotlib.axes._subplots.AxesSubplot object at 0x00000259443A4A20>,\n",
       "        <matplotlib.axes._subplots.AxesSubplot object at 0x00000259443CBF98>],\n",
       "       [<matplotlib.axes._subplots.AxesSubplot object at 0x00000259443FD550>,\n",
       "        <matplotlib.axes._subplots.AxesSubplot object at 0x0000025944427AC8>,\n",
       "        <matplotlib.axes._subplots.AxesSubplot object at 0x0000025944458080>,\n",
       "        <matplotlib.axes._subplots.AxesSubplot object at 0x00000259444805F8>,\n",
       "        <matplotlib.axes._subplots.AxesSubplot object at 0x00000259444A5B70>,\n",
       "        <matplotlib.axes._subplots.AxesSubplot object at 0x00000259444DA128>,\n",
       "        <matplotlib.axes._subplots.AxesSubplot object at 0x00000259445016A0>,\n",
       "        <matplotlib.axes._subplots.AxesSubplot object at 0x00000259454F7C18>,\n",
       "        <matplotlib.axes._subplots.AxesSubplot object at 0x000002594552A1D0>,\n",
       "        <matplotlib.axes._subplots.AxesSubplot object at 0x0000025945551748>],\n",
       "       [<matplotlib.axes._subplots.AxesSubplot object at 0x0000025945578CC0>,\n",
       "        <matplotlib.axes._subplots.AxesSubplot object at 0x00000259455AB278>,\n",
       "        <matplotlib.axes._subplots.AxesSubplot object at 0x00000259455D17F0>,\n",
       "        <matplotlib.axes._subplots.AxesSubplot object at 0x00000259455FAD68>,\n",
       "        <matplotlib.axes._subplots.AxesSubplot object at 0x000002594562B320>,\n",
       "        <matplotlib.axes._subplots.AxesSubplot object at 0x0000025945652898>,\n",
       "        <matplotlib.axes._subplots.AxesSubplot object at 0x000002594567AE10>,\n",
       "        <matplotlib.axes._subplots.AxesSubplot object at 0x00000259456AB3C8>,\n",
       "        <matplotlib.axes._subplots.AxesSubplot object at 0x00000259456D4940>,\n",
       "        <matplotlib.axes._subplots.AxesSubplot object at 0x00000259456FEEB8>],\n",
       "       [<matplotlib.axes._subplots.AxesSubplot object at 0x0000025945730470>,\n",
       "        <matplotlib.axes._subplots.AxesSubplot object at 0x00000259457569E8>,\n",
       "        <matplotlib.axes._subplots.AxesSubplot object at 0x000002594577EF60>,\n",
       "        <matplotlib.axes._subplots.AxesSubplot object at 0x00000259457AE518>,\n",
       "        <matplotlib.axes._subplots.AxesSubplot object at 0x00000259457D6A90>,\n",
       "        <matplotlib.axes._subplots.AxesSubplot object at 0x0000025945808048>,\n",
       "        <matplotlib.axes._subplots.AxesSubplot object at 0x000002594582E5C0>,\n",
       "        <matplotlib.axes._subplots.AxesSubplot object at 0x0000025945858B38>,\n",
       "        <matplotlib.axes._subplots.AxesSubplot object at 0x00000259458890F0>,\n",
       "        <matplotlib.axes._subplots.AxesSubplot object at 0x00000259458AF668>],\n",
       "       [<matplotlib.axes._subplots.AxesSubplot object at 0x00000259458D8BE0>,\n",
       "        <matplotlib.axes._subplots.AxesSubplot object at 0x000002594590C198>,\n",
       "        <matplotlib.axes._subplots.AxesSubplot object at 0x0000025945931710>,\n",
       "        <matplotlib.axes._subplots.AxesSubplot object at 0x0000025945959C88>,\n",
       "        <matplotlib.axes._subplots.AxesSubplot object at 0x000002594598D240>,\n",
       "        <matplotlib.axes._subplots.AxesSubplot object at 0x00000259459B47B8>,\n",
       "        <matplotlib.axes._subplots.AxesSubplot object at 0x00000259459DBD30>,\n",
       "        <matplotlib.axes._subplots.AxesSubplot object at 0x0000025945A0B2E8>,\n",
       "        <matplotlib.axes._subplots.AxesSubplot object at 0x0000025945A34860>,\n",
       "        <matplotlib.axes._subplots.AxesSubplot object at 0x0000025945A5DDD8>],\n",
       "       [<matplotlib.axes._subplots.AxesSubplot object at 0x0000025945A8B390>,\n",
       "        <matplotlib.axes._subplots.AxesSubplot object at 0x0000025945AB5908>,\n",
       "        <matplotlib.axes._subplots.AxesSubplot object at 0x0000025945ADFE80>,\n",
       "        <matplotlib.axes._subplots.AxesSubplot object at 0x0000025945B0E438>,\n",
       "        <matplotlib.axes._subplots.AxesSubplot object at 0x0000025945B399B0>,\n",
       "        <matplotlib.axes._subplots.AxesSubplot object at 0x0000025945B60F28>,\n",
       "        <matplotlib.axes._subplots.AxesSubplot object at 0x0000025945B914E0>,\n",
       "        <matplotlib.axes._subplots.AxesSubplot object at 0x0000025945BB9A58>,\n",
       "        <matplotlib.axes._subplots.AxesSubplot object at 0x0000025945BDFFD0>,\n",
       "        <matplotlib.axes._subplots.AxesSubplot object at 0x0000025945C12588>],\n",
       "       [<matplotlib.axes._subplots.AxesSubplot object at 0x0000025945C39B00>,\n",
       "        <matplotlib.axes._subplots.AxesSubplot object at 0x0000025945C6B0B8>,\n",
       "        <matplotlib.axes._subplots.AxesSubplot object at 0x0000025945C93630>,\n",
       "        <matplotlib.axes._subplots.AxesSubplot object at 0x0000025945CBBBA8>,\n",
       "        <matplotlib.axes._subplots.AxesSubplot object at 0x0000025945CED160>,\n",
       "        <matplotlib.axes._subplots.AxesSubplot object at 0x0000025945D136D8>,\n",
       "        <matplotlib.axes._subplots.AxesSubplot object at 0x0000025945D3CC50>,\n",
       "        <matplotlib.axes._subplots.AxesSubplot object at 0x0000025945D6F208>,\n",
       "        <matplotlib.axes._subplots.AxesSubplot object at 0x0000025945D96780>,\n",
       "        <matplotlib.axes._subplots.AxesSubplot object at 0x0000025945DBCCF8>]],\n",
       "      dtype=object)"
      ]
     },
     "execution_count": 13,
     "metadata": {},
     "output_type": "execute_result"
    },
    {
     "data": {
      "image/png": "[encoded data removed]",
      "text/plain": [
       "<Figure size 7200x7200 with 100 Axes>"
      ]
     },
     "metadata": {
      "needs_background": "light"
     },
     "output_type": "display_data"
    }
   ],
   "source": [
    "import matplotlib.pylab as plt\n",
    "\n",
    "dataframeNona_z.boxplot(by = 'GROUP',  layout=(10,10), figsize=(100, 100))\n",
    "\n",
    "# we are not seeing farthest & tighest clusters. There is lot of overlap."
   ]
  },
  {
   "cell_type": "markdown",
   "metadata": {},
   "source": [
    "### Use kmeans.labels_ function to print out the labels of the classes"
   ]
  },
  {
   "cell_type": "code",
   "execution_count": 14,
   "metadata": {},
   "outputs": [
    {
     "data": {
      "text/plain": [
       "array([0, 0, 2, 0, 4, 1, 0, 0, 0, 0, 1, 0, 1, 2, 3, 1, 2, 3, 3, 1, 1, 2,\n",
       "       0, 3, 2, 1, 3, 0, 0, 0, 2, 1, 3, 4, 2, 3, 2, 3, 0, 1, 2, 0, 0, 3,\n",
       "       0, 1, 3, 1, 2, 1, 2, 0, 1, 0, 2, 3, 2, 3, 3, 3, 1, 3, 2, 0, 2, 2,\n",
       "       1, 3, 0, 2, 1, 3, 3, 2, 0, 3, 1, 2, 0, 3, 1, 3, 2, 1, 2, 0, 3, 2,\n",
       "       3, 3, 2, 3, 4, 0, 0, 0, 1, 2, 3, 3, 1, 0, 0, 3, 3, 0, 0, 2, 2, 1,\n",
       "       3, 0, 0, 0, 0, 0, 3, 3, 0, 2, 2, 1, 1, 3, 2, 4, 0, 0, 3, 0, 1, 2,\n",
       "       3, 1, 2, 0, 1, 1, 0, 2, 1, 1, 2, 0, 2, 1, 0, 1, 3, 2, 1, 0, 2, 2,\n",
       "       1, 2, 3, 3, 2, 2, 0, 2, 0, 1, 1, 1, 3, 2, 3, 1, 3, 2, 1, 1, 1, 2,\n",
       "       1, 1, 0, 2, 1, 3, 2, 3, 3, 3, 0, 1, 2, 2, 0, 0, 1, 3, 2, 1, 0, 1,\n",
       "       2, 3, 3, 2, 3, 0, 2, 0, 3, 3, 0, 2, 0, 2, 3, 3, 3, 3, 2, 0, 0, 1,\n",
       "       2, 3, 1, 1, 3, 2, 0, 3, 1, 1, 2, 3, 2, 0, 1, 0, 2, 1, 1, 2, 2, 3,\n",
       "       1, 0, 0, 2, 3, 1, 0, 3, 3, 1, 0, 2, 1, 3, 3, 2, 1, 1, 3, 3, 2, 0,\n",
       "       1, 2, 3, 0, 4, 1, 0, 2, 1, 2, 3, 1, 1, 2, 0, 1, 0, 3, 1, 2, 2, 2,\n",
       "       2, 0, 3, 2, 3, 3, 0, 1, 3, 2, 2, 3, 2, 1, 3, 1, 0, 0, 0, 2, 2, 3,\n",
       "       2, 2, 0, 2, 0, 1, 1, 3, 3, 2, 2, 2, 1, 0, 0, 1, 3, 0, 3, 1, 1, 1,\n",
       "       2, 0, 1, 2, 2, 1, 0, 3, 2, 0, 3, 3, 0, 1, 1, 1, 3, 2, 2, 3, 3, 2,\n",
       "       3, 2, 3, 2, 0, 0, 1, 0, 4, 2, 3, 0, 0, 1, 1, 1, 1, 1, 0, 2, 1, 2,\n",
       "       0, 2, 1, 3, 3, 1, 1, 1, 3, 3, 1, 0, 2, 1, 1, 3, 3, 2, 0, 3, 1, 0,\n",
       "       2, 1, 2, 0, 2, 2, 3, 3, 2, 0, 3, 3, 1, 2, 2, 0, 0, 2, 2, 0, 2, 2,\n",
       "       2, 0, 1, 1, 1, 1, 2, 3, 3, 0, 2, 1, 0, 2, 1, 3, 1, 3, 3, 2, 0, 0,\n",
       "       2, 2, 2, 3, 2, 2, 0, 1, 3, 2, 2, 1, 0, 0, 3, 2, 1, 3, 2, 2, 1, 3,\n",
       "       2, 2, 1, 0, 3, 2, 2, 2, 3, 3, 2, 2, 2, 1, 0, 2, 3, 1, 2, 1, 0, 3,\n",
       "       1, 2, 3, 0, 1, 0, 4, 2, 1, 1, 2, 1, 3, 1, 2, 2, 3, 3, 0, 2, 0, 2,\n",
       "       2, 1, 0, 1, 1, 1, 0, 3, 1, 1, 2, 3, 3, 1, 3, 2, 1, 2, 3, 3, 2, 2,\n",
       "       1, 2, 0, 1, 1, 2, 1, 3, 0, 2, 0, 0, 0, 2, 2, 2, 2, 1, 3, 3, 0, 2,\n",
       "       2, 2, 0, 2, 3, 0, 2, 3, 3, 3, 0, 3, 1, 1, 0, 1, 0, 1, 0, 2, 1, 1,\n",
       "       2, 0, 0, 0, 3, 2, 0, 3, 1, 3, 1, 0, 3, 0, 2, 2, 0, 1, 2, 3, 2, 1,\n",
       "       1, 1, 0, 3, 2, 3, 2, 3, 3, 0, 3, 1, 2, 2, 1, 1, 1, 0, 0, 1, 3, 2,\n",
       "       0, 2, 3, 1, 1, 1, 3, 1, 0, 0, 2, 0, 2, 3, 1, 0, 0, 1, 2, 0, 3, 2,\n",
       "       1, 2, 0, 1, 2, 3, 2, 3, 1, 0, 1, 0, 2, 1, 3, 0, 2, 3, 2, 1, 1, 2,\n",
       "       0, 1, 3, 0, 1, 3, 1, 2, 2, 1, 0, 2, 2, 4, 0, 0, 1, 2, 2, 2, 2, 1,\n",
       "       2, 1, 1, 2, 2, 1, 2, 0, 1, 0, 0, 2, 1, 3, 2, 2, 2, 0, 2, 3, 3, 2,\n",
       "       2, 2, 0, 2, 1, 0, 2, 0, 3, 0, 3, 0, 2, 1, 3, 1, 1, 0, 0, 2, 3, 3,\n",
       "       0, 1, 2, 0, 2, 2, 3, 1, 1, 2, 1, 3, 2, 2, 3, 0, 1, 2, 2, 2, 3, 2,\n",
       "       0, 1, 2, 3, 3, 2, 0, 2, 1, 3, 0, 2, 1, 1, 3, 0, 2, 2, 1, 0, 3, 1,\n",
       "       1, 2, 3, 0, 2, 3, 3, 2, 3, 1, 0, 3, 3, 0, 2, 1, 1, 3, 2, 0, 2, 2,\n",
       "       3, 1, 2, 0, 0, 1, 1, 2, 0, 3, 2, 0, 1, 0, 0, 0, 1, 0, 2, 0, 3])"
      ]
     },
     "execution_count": 14,
     "metadata": {},
     "output_type": "execute_result"
    }
   ],
   "source": [
    "# Printing labels assigned to each class\n",
    "\n",
    "labels = cluster.labels_\n",
    "labels\n"
   ]
  },
  {
   "cell_type": "code",
   "execution_count": null,
   "metadata": {},
   "outputs": [],
   "source": [
    "# Conclusion : either the provided data set didnt have enough features to segregate further clusters within car cluster \n",
    "# or the provided dataset doesnt have enough data points that are very different from each for given features. "
   ]
  },
  {
   "cell_type": "markdown",
   "metadata": {},
   "source": [
    "## Hierarchical Clustering "
   ]
  },
  {
   "cell_type": "markdown",
   "metadata": {},
   "source": [
    "### 8. Variable creation"
   ]
  },
  {
   "cell_type": "markdown",
   "metadata": {},
   "source": [
    "For Hierarchical clustering, we will create datasets using multivariate normal distribution to visually observe how the clusters are formed at the end"
   ]
  },
  {
   "cell_type": "code",
   "execution_count": 15,
   "metadata": {},
   "outputs": [],
   "source": [
    "a = np.random.multivariate_normal([10, 0], [[3, 1], [1, 4]], size=[100,])\n",
    "b = np.random.multivariate_normal([0, 20], [[3, 1], [1, 4]], size=[50,])\n",
    "c = np.random.multivariate_normal([10, 20], [[3, 1], [1, 4]], size=[100,])\n",
    "\n",
    "z = np.concatenate((a,b,c), axis = 0)\n"
   ]
  },
  {
   "cell_type": "markdown",
   "metadata": {},
   "source": [
    "### 9. Combine all three arrays a,b,c into a dataframe"
   ]
  },
  {
   "cell_type": "code",
   "execution_count": 16,
   "metadata": {},
   "outputs": [
    {
     "name": "stdout",
     "output_type": "stream",
     "text": [
      "        col1      col2\n",
      "0  11.801011  1.567319\n",
      "1  12.713614  0.173795\n",
      "2   8.531144 -2.700657\n",
      "3  10.077464 -3.696562\n",
      "4  11.851491 -0.837945\n",
      "5  11.346663  0.345138\n",
      "6   9.384580 -0.748231\n",
      "7  10.556255 -1.241403\n",
      "8   9.901424 -0.531254\n",
      "9  11.168927  2.568518\n",
      "(250, 2)\n"
     ]
    }
   ],
   "source": [
    "dataset = pd.DataFrame(z, columns = ['col1','col2'])\n",
    "print(dataset.head(10))\n",
    "print(dataset.shape)"
   ]
  },
  {
   "cell_type": "markdown",
   "metadata": {},
   "source": [
    "### 10. Use scatter matrix to print all the 3 distributions"
   ]
  },
  {
   "cell_type": "code",
   "execution_count": 17,
   "metadata": {},
   "outputs": [
    {
     "data": {
      "text/plain": [
       "<matplotlib.collections.PathCollection at 0x259547eb128>"
      ]
     },
     "execution_count": 17,
     "metadata": {},
     "output_type": "execute_result"
    },
    {
     "data": {
      "image/png": "[encoded data removed]",
      "text/plain": [
       "<Figure size 432x288 with 1 Axes>"
      ]
     },
     "metadata": {
      "needs_background": "light"
     },
     "output_type": "display_data"
    }
   ],
   "source": [
    "from matplotlib import pyplot as plt\n",
    "\n",
    "f1 = dataset['col1'].values\n",
    "\n",
    "f2 = dataset['col2'].values\n",
    "\n",
    "plt.scatter(f1, f2, c='green', s=7)"
   ]
  },
  {
   "cell_type": "code",
   "execution_count": null,
   "metadata": {},
   "outputs": [],
   "source": []
  },
  {
   "cell_type": "markdown",
   "metadata": {},
   "source": [
    "### 11. Find out the linkage matrix"
   ]
  },
  {
   "cell_type": "markdown",
   "metadata": {},
   "source": [
    "Use ward as linkage metric and distance as Eucledian"
   ]
  },
  {
   "cell_type": "code",
   "execution_count": 18,
   "metadata": {},
   "outputs": [
    {
     "data": {
      "text/plain": [
       "AgglomerativeClustering(affinity='euclidean', compute_full_tree='auto',\n",
       "            connectivity=None, linkage='ward', memory=None, n_clusters=3,\n",
       "            pooling_func='deprecated')"
      ]
     },
     "execution_count": 18,
     "metadata": {},
     "output_type": "execute_result"
    }
   ],
   "source": [
    "from sklearn.cluster import AgglomerativeClustering \n",
    "model = AgglomerativeClustering(n_clusters=3, affinity='euclidean',  linkage='ward')\n",
    "model.fit(dataset)"
   ]
  },
  {
   "cell_type": "markdown",
   "metadata": {},
   "source": [
    "### 12. Plot the dendrogram for the consolidated dataframe"
   ]
  },
  {
   "cell_type": "code",
   "execution_count": 19,
   "metadata": {},
   "outputs": [
    {
     "data": {
      "image/png": "[encoded data removed]",
      "text/plain": [
       "<Figure size 720x720 with 1 Axes>"
      ]
     },
     "metadata": {
      "needs_background": "light"
     },
     "output_type": "display_data"
    }
   ],
   "source": [
    "from scipy.cluster.hierarchy import cophenet, dendrogram, linkage\n",
    "\n",
    "\n",
    "Z = linkage(dataset, 'ward')\n",
    "plt.figure(figsize=(10, 10))\n",
    "plt.title('Agglomerative Hierarchical Clustering Dendogram')\n",
    "plt.xlabel('sample index')\n",
    "plt.ylabel('Distance')\n",
    "dendrogram(Z, leaf_rotation=90.,color_threshold = 30, leaf_font_size=8. )\n",
    "plt.tight_layout()"
   ]
  },
  {
   "cell_type": "markdown",
   "metadata": {},
   "source": [
    "### 13. Recreate the dendrogram for last 12 merged clusters "
   ]
  },
  {
   "cell_type": "code",
   "execution_count": 20,
   "metadata": {},
   "outputs": [
    {
     "data": {
      "image/png": "[encoded data removed]",
      "text/plain": [
       "<Figure size 432x288 with 1 Axes>"
      ]
     },
     "metadata": {
      "needs_background": "light"
     },
     "output_type": "display_data"
    }
   ],
   "source": [
    "plt.title('Hierarchical Clustering Dendrogram (truncated)')\n",
    "plt.xlabel('sample index or (cluster size)')\n",
    "plt.ylabel('distance')\n",
    "dendrogram(\n",
    "    Z,\n",
    "    truncate_mode='lastp',  # show only the last p merged clusters\n",
    "    p=12,  # show only the last p merged clusters\n",
    "    leaf_rotation=90.,\n",
    "    leaf_font_size=12.,\n",
    "    show_contracted=True,  # to get a distribution impression in truncated branches\n",
    ")\n",
    "plt.show()"
   ]
  },
  {
   "cell_type": "markdown",
   "metadata": {},
   "source": [
    "Hint: Use truncate_mode='lastp' attribute in dendrogram function to arrive at dendrogram "
   ]
  },
  {
   "cell_type": "markdown",
   "metadata": {},
   "source": [
    "### 14. From the truncated dendrogram, find out the optimal distance between clusters which u want to use an input for clustering data"
   ]
  },
  {
   "cell_type": "code",
   "execution_count": 21,
   "metadata": {},
   "outputs": [],
   "source": [
    "# From the above diagram we can see that there is a huge jump is distance if we have a cut off at 100.\n",
    "# with cut off at 100, we see 2 clusters. \n",
    "\n"
   ]
  },
  {
   "cell_type": "code",
   "execution_count": null,
   "metadata": {},
   "outputs": [],
   "source": []
  },
  {
   "cell_type": "markdown",
   "metadata": {},
   "source": [
    "### 15. Using this distance measure and fcluster function to cluster the data into 3 different groups"
   ]
  },
  {
   "cell_type": "code",
   "execution_count": 22,
   "metadata": {},
   "outputs": [
    {
     "data": {
      "text/plain": [
       "array([1, 1, 1, 1, 1, 1, 1, 1, 1, 1, 1, 1, 1, 1, 1, 1, 1, 1, 1, 1, 1, 1,\n",
       "       1, 1, 1, 1, 1, 1, 1, 1, 1, 1, 1, 1, 1, 1, 1, 1, 1, 1, 1, 1, 1, 1,\n",
       "       1, 1, 1, 1, 1, 1, 1, 1, 1, 1, 1, 1, 1, 1, 1, 1, 1, 1, 1, 1, 1, 1,\n",
       "       1, 1, 1, 1, 1, 1, 1, 1, 1, 1, 1, 1, 1, 1, 1, 1, 1, 1, 1, 1, 1, 1,\n",
       "       1, 1, 1, 1, 1, 1, 1, 1, 1, 1, 1, 1, 2, 2, 2, 2, 2, 2, 2, 2, 2, 2,\n",
       "       2, 2, 2, 2, 2, 2, 2, 2, 2, 2, 2, 2, 2, 2, 2, 2, 2, 2, 2, 2, 2, 2,\n",
       "       2, 2, 2, 2, 2, 2, 2, 2, 2, 2, 2, 2, 2, 2, 2, 2, 2, 2, 3, 3, 3, 3,\n",
       "       3, 3, 3, 3, 3, 3, 3, 3, 3, 3, 3, 3, 3, 3, 3, 3, 3, 3, 3, 3, 3, 3,\n",
       "       3, 3, 3, 3, 3, 3, 3, 3, 3, 3, 3, 3, 3, 3, 3, 3, 3, 3, 3, 3, 3, 3,\n",
       "       3, 3, 3, 3, 3, 3, 3, 3, 3, 3, 3, 3, 3, 3, 3, 3, 3, 3, 3, 3, 3, 3,\n",
       "       3, 3, 3, 3, 3, 3, 3, 3, 3, 3, 3, 3, 3, 3, 3, 3, 3, 3, 3, 3, 3, 3,\n",
       "       3, 3, 3, 3, 3, 3, 3, 3], dtype=int32)"
      ]
     },
     "execution_count": 22,
     "metadata": {},
     "output_type": "execute_result"
    }
   ],
   "source": [
    "\n",
    "from scipy.cluster.hierarchy import fcluster\n",
    "max_d = 50 # cut off at 50 to see 3 different clusters.\n",
    "clusters = fcluster(Z, max_d, criterion='distance')\n",
    "clusters"
   ]
  },
  {
   "cell_type": "code",
   "execution_count": null,
   "metadata": {},
   "outputs": [],
   "source": []
  },
  {
   "cell_type": "markdown",
   "metadata": {},
   "source": [
    "### Use matplotlib to visually observe the clusters in 2D space "
   ]
  },
  {
   "cell_type": "code",
   "execution_count": 23,
   "metadata": {},
   "outputs": [
    {
     "data": {
      "image/png": "[encoded data removed]",
      "text/plain": [
       "<Figure size 720x576 with 1 Axes>"
      ]
     },
     "metadata": {
      "needs_background": "light"
     },
     "output_type": "display_data"
    }
   ],
   "source": [
    "plt.figure(figsize=(10, 8))\n",
    "plt.scatter(f1,f2, c=clusters, cmap='prism')  # plot points with cluster dependent colors\n",
    "plt.show()\n",
    "\n"
   ]
  },
  {
   "cell_type": "code",
   "execution_count": null,
   "metadata": {},
   "outputs": [],
   "source": []
  }
 ],
 "metadata": {
  "kernelspec": {
   "display_name": "Python 3",
   "language": "python",
   "name": "python3"
  },
  "language_info": {
   "codemirror_mode": {
    "name": "ipython",
    "version": 3
   },
   "file_extension": ".py",
   "mimetype": "text/x-python",
   "name": "python",
   "nbconvert_exporter": "python",
   "pygments_lexer": "ipython3",
   "version": "3.7.3"
  }
 },
 "nbformat": 4,
 "nbformat_minor": 2
}

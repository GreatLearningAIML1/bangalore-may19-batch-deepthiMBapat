{
 "cells": [
  {
   "cell_type": "code",
   "execution_count": null,
   "metadata": {},
   "outputs": [],
   "source": [
    "#Problem Statement -\n",
    "\n",
    "#Build your own recommendation system for products on an e-commerce website like Amazon.com.\n",
    "\n",
    "#Dataset  - ratings_Electronics.csv\n",
    "\n",
    "#Dataset columns - first three columns are userId, productId, and ratings and the fourth column is timestamp. \n",
    "#You can discard the timestamp column as in this case you may not need to use it.\n",
    "\n",
    "#Source - Amazon Reviews data (http://jmcauley.ucsd.edu/data/amazon/)  The repository has several datasets. \n",
    "#For this case study, we are using the Electronics dataset."
   ]
  },
  {
   "cell_type": "code",
   "execution_count": 234,
   "metadata": {},
   "outputs": [],
   "source": [
    "#Read and explore the given dataset.  ( Rename column/add headers, plot histograms, find data characteristics)\n",
    "import pandas as pd\n",
    "from sklearn.model_selection import train_test_split\n",
    "from surprise import Dataset,Reader\n",
    "from surprise import KNNWithMeans\n",
    "from surprise import accuracy\n",
    "import Recommenders as Recommenders\n",
    "import Evaluation as Evaluation\n",
    "import time\n",
    "from sklearn.externals import joblib"
   ]
  },
  {
   "cell_type": "code",
   "execution_count": 204,
   "metadata": {},
   "outputs": [
    {
     "data": {
      "text/html": [
       "<div>\n",
       "<style scoped>\n",
       "    .dataframe tbody tr th:only-of-type {\n",
       "        vertical-align: middle;\n",
       "    }\n",
       "\n",
       "    .dataframe tbody tr th {\n",
       "        vertical-align: top;\n",
       "    }\n",
       "\n",
       "    .dataframe thead th {\n",
       "        text-align: right;\n",
       "    }\n",
       "</style>\n",
       "<table border=\"1\" class=\"dataframe\">\n",
       "  <thead>\n",
       "    <tr style=\"text-align: right;\">\n",
       "      <th></th>\n",
       "      <th>userId</th>\n",
       "      <th>productId</th>\n",
       "      <th>ratings</th>\n",
       "      <th>timestamp</th>\n",
       "    </tr>\n",
       "  </thead>\n",
       "  <tbody>\n",
       "    <tr>\n",
       "      <th>0</th>\n",
       "      <td>AKM1MP6P0OYPR</td>\n",
       "      <td>0132793040</td>\n",
       "      <td>5.0</td>\n",
       "      <td>1365811200</td>\n",
       "    </tr>\n",
       "    <tr>\n",
       "      <th>1</th>\n",
       "      <td>A2CX7LUOHB2NDG</td>\n",
       "      <td>0321732944</td>\n",
       "      <td>5.0</td>\n",
       "      <td>1341100800</td>\n",
       "    </tr>\n",
       "    <tr>\n",
       "      <th>2</th>\n",
       "      <td>A2NWSAGRHCP8N5</td>\n",
       "      <td>0439886341</td>\n",
       "      <td>1.0</td>\n",
       "      <td>1367193600</td>\n",
       "    </tr>\n",
       "    <tr>\n",
       "      <th>3</th>\n",
       "      <td>A2WNBOD3WNDNKT</td>\n",
       "      <td>0439886341</td>\n",
       "      <td>3.0</td>\n",
       "      <td>1374451200</td>\n",
       "    </tr>\n",
       "    <tr>\n",
       "      <th>4</th>\n",
       "      <td>A1GI0U4ZRJA8WN</td>\n",
       "      <td>0439886341</td>\n",
       "      <td>1.0</td>\n",
       "      <td>1334707200</td>\n",
       "    </tr>\n",
       "  </tbody>\n",
       "</table>\n",
       "</div>"
      ],
      "text/plain": [
       "           userId   productId  ratings   timestamp\n",
       "0   AKM1MP6P0OYPR  0132793040      5.0  1365811200\n",
       "1  A2CX7LUOHB2NDG  0321732944      5.0  1341100800\n",
       "2  A2NWSAGRHCP8N5  0439886341      1.0  1367193600\n",
       "3  A2WNBOD3WNDNKT  0439886341      3.0  1374451200\n",
       "4  A1GI0U4ZRJA8WN  0439886341      1.0  1334707200"
      ]
     },
     "execution_count": 204,
     "metadata": {},
     "output_type": "execute_result"
    }
   ],
   "source": [
    "#loading data and assigning column names\n",
    "electronic_df = pd.read_csv(\"ratings_Electronics.csv\",header = None, names= ['userId','productId','ratings','timestamp'])\n",
    "electronic_df.head()"
   ]
  },
  {
   "cell_type": "code",
   "execution_count": 205,
   "metadata": {},
   "outputs": [
    {
     "data": {
      "text/html": [
       "<div>\n",
       "<style scoped>\n",
       "    .dataframe tbody tr th:only-of-type {\n",
       "        vertical-align: middle;\n",
       "    }\n",
       "\n",
       "    .dataframe tbody tr th {\n",
       "        vertical-align: top;\n",
       "    }\n",
       "\n",
       "    .dataframe thead th {\n",
       "        text-align: right;\n",
       "    }\n",
       "</style>\n",
       "<table border=\"1\" class=\"dataframe\">\n",
       "  <thead>\n",
       "    <tr style=\"text-align: right;\">\n",
       "      <th></th>\n",
       "      <th>userId</th>\n",
       "      <th>productId</th>\n",
       "      <th>ratings</th>\n",
       "    </tr>\n",
       "  </thead>\n",
       "  <tbody>\n",
       "    <tr>\n",
       "      <th>0</th>\n",
       "      <td>AKM1MP6P0OYPR</td>\n",
       "      <td>0132793040</td>\n",
       "      <td>5.0</td>\n",
       "    </tr>\n",
       "    <tr>\n",
       "      <th>1</th>\n",
       "      <td>A2CX7LUOHB2NDG</td>\n",
       "      <td>0321732944</td>\n",
       "      <td>5.0</td>\n",
       "    </tr>\n",
       "    <tr>\n",
       "      <th>2</th>\n",
       "      <td>A2NWSAGRHCP8N5</td>\n",
       "      <td>0439886341</td>\n",
       "      <td>1.0</td>\n",
       "    </tr>\n",
       "    <tr>\n",
       "      <th>3</th>\n",
       "      <td>A2WNBOD3WNDNKT</td>\n",
       "      <td>0439886341</td>\n",
       "      <td>3.0</td>\n",
       "    </tr>\n",
       "    <tr>\n",
       "      <th>4</th>\n",
       "      <td>A1GI0U4ZRJA8WN</td>\n",
       "      <td>0439886341</td>\n",
       "      <td>1.0</td>\n",
       "    </tr>\n",
       "  </tbody>\n",
       "</table>\n",
       "</div>"
      ],
      "text/plain": [
       "           userId   productId  ratings\n",
       "0   AKM1MP6P0OYPR  0132793040      5.0\n",
       "1  A2CX7LUOHB2NDG  0321732944      5.0\n",
       "2  A2NWSAGRHCP8N5  0439886341      1.0\n",
       "3  A2WNBOD3WNDNKT  0439886341      3.0\n",
       "4  A1GI0U4ZRJA8WN  0439886341      1.0"
      ]
     },
     "execution_count": 205,
     "metadata": {},
     "output_type": "execute_result"
    }
   ],
   "source": [
    "electronic_df = electronic_df.drop('timestamp', axis =1) # Dropping time stamp column as its not relevant for this analysis.\n",
    "electronic_df.head()"
   ]
  },
  {
   "cell_type": "code",
   "execution_count": 206,
   "metadata": {},
   "outputs": [
    {
     "name": "stdout",
     "output_type": "stream",
     "text": [
      "<class 'pandas.core.frame.DataFrame'>\n",
      "RangeIndex: 7824482 entries, 0 to 7824481\n",
      "Data columns (total 3 columns):\n",
      "userId       object\n",
      "productId    object\n",
      "ratings      float64\n",
      "dtypes: float64(1), object(2)\n",
      "memory usage: 179.1+ MB\n"
     ]
    }
   ],
   "source": [
    "electronic_df.info()"
   ]
  },
  {
   "cell_type": "code",
   "execution_count": 207,
   "metadata": {},
   "outputs": [
    {
     "data": {
      "text/plain": [
       "(7824482, 3)"
      ]
     },
     "execution_count": 207,
     "metadata": {},
     "output_type": "execute_result"
    }
   ],
   "source": [
    "electronic_df.shape"
   ]
  },
  {
   "cell_type": "code",
   "execution_count": 208,
   "metadata": {},
   "outputs": [
    {
     "name": "stdout",
     "output_type": "stream",
     "text": [
      "Number of unique users:  4201696\n"
     ]
    }
   ],
   "source": [
    "print(\"Number of unique users: \",len(electronic_df['userId'].unique())) # There are 4201696 unique users.\n",
    "users = electronic_df['userId']"
   ]
  },
  {
   "cell_type": "code",
   "execution_count": 209,
   "metadata": {},
   "outputs": [
    {
     "data": {
      "text/plain": [
       "476002"
      ]
     },
     "execution_count": 209,
     "metadata": {},
     "output_type": "execute_result"
    }
   ],
   "source": [
    "len(electronic_df['productId'].unique()) # There are 476002 unique products."
   ]
  },
  {
   "cell_type": "code",
   "execution_count": 210,
   "metadata": {},
   "outputs": [
    {
     "data": {
      "text/plain": [
       "5.0    4347541\n",
       "4.0    1485781\n",
       "1.0     901765\n",
       "3.0     633073\n",
       "2.0     456322\n",
       "Name: ratings, dtype: int64"
      ]
     },
     "execution_count": 210,
     "metadata": {},
     "output_type": "execute_result"
    }
   ],
   "source": [
    "electronic_df['ratings'].value_counts() # Various ratings given by user."
   ]
  },
  {
   "cell_type": "code",
   "execution_count": 220,
   "metadata": {},
   "outputs": [
    {
     "name": "stdout",
     "output_type": "stream",
     "text": [
      "(21355, 3)\n"
     ]
    }
   ],
   "source": [
    "##Take a subset of the dataset to make it less sparse/ denser. \n",
    "#( For example, keep the users only who has given 50 or more number of ratings ) # Making it 125 as data set is still dense when \n",
    "# considered users only who has given 50+ ratings\n",
    "userID_count = electronic_df[\"userId\"].value_counts()\n",
    "user_rated_100 = electronic_df[electronic_df[\"userId\"].isin(userID_count[userID_count >= 155].index)]\n",
    "#print(user_rated_100) # only has users who have rated atleast 100 or more movies\n",
    "print(user_rated_100.shape)"
   ]
  },
  {
   "cell_type": "code",
   "execution_count": 221,
   "metadata": {},
   "outputs": [
    {
     "data": {
      "text/html": [
       "<div>\n",
       "<style scoped>\n",
       "    .dataframe tbody tr th:only-of-type {\n",
       "        vertical-align: middle;\n",
       "    }\n",
       "\n",
       "    .dataframe tbody tr th {\n",
       "        vertical-align: top;\n",
       "    }\n",
       "\n",
       "    .dataframe thead th {\n",
       "        text-align: right;\n",
       "    }\n",
       "</style>\n",
       "<table border=\"1\" class=\"dataframe\">\n",
       "  <thead>\n",
       "    <tr style=\"text-align: right;\">\n",
       "      <th></th>\n",
       "      <th>userId</th>\n",
       "      <th>productId</th>\n",
       "      <th>ratings</th>\n",
       "    </tr>\n",
       "  </thead>\n",
       "  <tbody>\n",
       "    <tr>\n",
       "      <th>631</th>\n",
       "      <td>A3TAS1AG6FMBQW</td>\n",
       "      <td>0972683275</td>\n",
       "      <td>5.0</td>\n",
       "    </tr>\n",
       "    <tr>\n",
       "      <th>2162</th>\n",
       "      <td>A5JLAU2ARJ0BO</td>\n",
       "      <td>1400532655</td>\n",
       "      <td>1.0</td>\n",
       "    </tr>\n",
       "    <tr>\n",
       "      <th>3383</th>\n",
       "      <td>A3PD8JD9L4WEII</td>\n",
       "      <td>1400699169</td>\n",
       "      <td>5.0</td>\n",
       "    </tr>\n",
       "    <tr>\n",
       "      <th>4495</th>\n",
       "      <td>A1ZU55TM45Y2R8</td>\n",
       "      <td>8862936826</td>\n",
       "      <td>2.0</td>\n",
       "    </tr>\n",
       "    <tr>\n",
       "      <th>4614</th>\n",
       "      <td>A1VQHH85U7PX0</td>\n",
       "      <td>9043413585</td>\n",
       "      <td>3.0</td>\n",
       "    </tr>\n",
       "  </tbody>\n",
       "</table>\n",
       "</div>"
      ],
      "text/plain": [
       "              userId   productId  ratings\n",
       "631   A3TAS1AG6FMBQW  0972683275      5.0\n",
       "2162   A5JLAU2ARJ0BO  1400532655      1.0\n",
       "3383  A3PD8JD9L4WEII  1400699169      5.0\n",
       "4495  A1ZU55TM45Y2R8  8862936826      2.0\n",
       "4614   A1VQHH85U7PX0  9043413585      3.0"
      ]
     },
     "execution_count": 221,
     "metadata": {},
     "output_type": "execute_result"
    }
   ],
   "source": [
    "user_rated_100.head()"
   ]
  },
  {
   "cell_type": "code",
   "execution_count": 222,
   "metadata": {},
   "outputs": [
    {
     "name": "stdout",
     "output_type": "stream",
     "text": [
      "<class 'pandas.core.frame.DataFrame'>\n",
      "Int64Index: 21355 entries, 631 to 7824444\n",
      "Data columns (total 3 columns):\n",
      "userId       21355 non-null object\n",
      "productId    21355 non-null object\n",
      "ratings      21355 non-null float64\n",
      "dtypes: float64(1), object(2)\n",
      "memory usage: 667.3+ KB\n"
     ]
    }
   ],
   "source": [
    "user_rated_100.info()"
   ]
  },
  {
   "cell_type": "code",
   "execution_count": 239,
   "metadata": {},
   "outputs": [
    {
     "data": {
      "text/html": [
       "<div>\n",
       "<style scoped>\n",
       "    .dataframe tbody tr th:only-of-type {\n",
       "        vertical-align: middle;\n",
       "    }\n",
       "\n",
       "    .dataframe tbody tr th {\n",
       "        vertical-align: top;\n",
       "    }\n",
       "\n",
       "    .dataframe thead th {\n",
       "        text-align: right;\n",
       "    }\n",
       "</style>\n",
       "<table border=\"1\" class=\"dataframe\">\n",
       "  <thead>\n",
       "    <tr style=\"text-align: right;\">\n",
       "      <th></th>\n",
       "      <th>userId</th>\n",
       "      <th>productId</th>\n",
       "      <th>ratings</th>\n",
       "    </tr>\n",
       "  </thead>\n",
       "  <tbody>\n",
       "    <tr>\n",
       "      <th>506118</th>\n",
       "      <td>A1EVV74UQYVKRY</td>\n",
       "      <td>B0002SQ2P2</td>\n",
       "      <td>5.0</td>\n",
       "    </tr>\n",
       "    <tr>\n",
       "      <th>3440851</th>\n",
       "      <td>A1ZU55TM45Y2R8</td>\n",
       "      <td>B003LVZO92</td>\n",
       "      <td>5.0</td>\n",
       "    </tr>\n",
       "    <tr>\n",
       "      <th>3703637</th>\n",
       "      <td>A38RMU1Y5TDP9</td>\n",
       "      <td>B003ZG9T62</td>\n",
       "      <td>5.0</td>\n",
       "    </tr>\n",
       "    <tr>\n",
       "      <th>392435</th>\n",
       "      <td>A4WEZJOIZIV4U</td>\n",
       "      <td>B0001G6U4S</td>\n",
       "      <td>5.0</td>\n",
       "    </tr>\n",
       "    <tr>\n",
       "      <th>316472</th>\n",
       "      <td>A5JLAU2ARJ0BO</td>\n",
       "      <td>B0000AH5HF</td>\n",
       "      <td>2.0</td>\n",
       "    </tr>\n",
       "  </tbody>\n",
       "</table>\n",
       "</div>"
      ],
      "text/plain": [
       "                 userId   productId  ratings\n",
       "506118   A1EVV74UQYVKRY  B0002SQ2P2      5.0\n",
       "3440851  A1ZU55TM45Y2R8  B003LVZO92      5.0\n",
       "3703637   A38RMU1Y5TDP9  B003ZG9T62      5.0\n",
       "392435    A4WEZJOIZIV4U  B0001G6U4S      5.0\n",
       "316472    A5JLAU2ARJ0BO  B0000AH5HF      2.0"
      ]
     },
     "execution_count": 239,
     "metadata": {},
     "output_type": "execute_result"
    }
   ],
   "source": [
    "train_data, test_data = train_test_split(user_rated_100, test_size = 0.30, random_state=0)\n",
    "train_data.head()"
   ]
  },
  {
   "cell_type": "markdown",
   "metadata": {},
   "source": [
    "# Popularity based model "
   ]
  },
  {
   "cell_type": "code",
   "execution_count": 231,
   "metadata": {},
   "outputs": [
    {
     "data": {
      "text/html": [
       "<div>\n",
       "<style scoped>\n",
       "    .dataframe tbody tr th:only-of-type {\n",
       "        vertical-align: middle;\n",
       "    }\n",
       "\n",
       "    .dataframe tbody tr th {\n",
       "        vertical-align: top;\n",
       "    }\n",
       "\n",
       "    .dataframe thead th {\n",
       "        text-align: right;\n",
       "    }\n",
       "</style>\n",
       "<table border=\"1\" class=\"dataframe\">\n",
       "  <thead>\n",
       "    <tr style=\"text-align: right;\">\n",
       "      <th></th>\n",
       "      <th>userId</th>\n",
       "      <th>productId</th>\n",
       "      <th>score</th>\n",
       "      <th>Rank</th>\n",
       "    </tr>\n",
       "  </thead>\n",
       "  <tbody>\n",
       "    <tr>\n",
       "      <th>7148</th>\n",
       "      <td>A37K02NKUIT68K</td>\n",
       "      <td>B003ES5ZUU</td>\n",
       "      <td>31</td>\n",
       "      <td>1.0</td>\n",
       "    </tr>\n",
       "    <tr>\n",
       "      <th>10388</th>\n",
       "      <td>A37K02NKUIT68K</td>\n",
       "      <td>B0088CJT4U</td>\n",
       "      <td>26</td>\n",
       "      <td>2.0</td>\n",
       "    </tr>\n",
       "    <tr>\n",
       "      <th>8052</th>\n",
       "      <td>A37K02NKUIT68K</td>\n",
       "      <td>B004CLYEDC</td>\n",
       "      <td>25</td>\n",
       "      <td>3.0</td>\n",
       "    </tr>\n",
       "    <tr>\n",
       "      <th>8054</th>\n",
       "      <td>A37K02NKUIT68K</td>\n",
       "      <td>B004CLYEFK</td>\n",
       "      <td>24</td>\n",
       "      <td>4.0</td>\n",
       "    </tr>\n",
       "    <tr>\n",
       "      <th>9985</th>\n",
       "      <td>A37K02NKUIT68K</td>\n",
       "      <td>B0079UAT0A</td>\n",
       "      <td>22</td>\n",
       "      <td>5.0</td>\n",
       "    </tr>\n",
       "    <tr>\n",
       "      <th>10319</th>\n",
       "      <td>A37K02NKUIT68K</td>\n",
       "      <td>B00829TIEK</td>\n",
       "      <td>22</td>\n",
       "      <td>6.0</td>\n",
       "    </tr>\n",
       "    <tr>\n",
       "      <th>10315</th>\n",
       "      <td>A37K02NKUIT68K</td>\n",
       "      <td>B00829THK0</td>\n",
       "      <td>21</td>\n",
       "      <td>7.0</td>\n",
       "    </tr>\n",
       "    <tr>\n",
       "      <th>10324</th>\n",
       "      <td>A37K02NKUIT68K</td>\n",
       "      <td>B0082E9K7U</td>\n",
       "      <td>21</td>\n",
       "      <td>8.0</td>\n",
       "    </tr>\n",
       "    <tr>\n",
       "      <th>6442</th>\n",
       "      <td>A37K02NKUIT68K</td>\n",
       "      <td>B002R5AM7C</td>\n",
       "      <td>20</td>\n",
       "      <td>9.0</td>\n",
       "    </tr>\n",
       "    <tr>\n",
       "      <th>10234</th>\n",
       "      <td>A37K02NKUIT68K</td>\n",
       "      <td>B007WTAJTO</td>\n",
       "      <td>20</td>\n",
       "      <td>10.0</td>\n",
       "    </tr>\n",
       "  </tbody>\n",
       "</table>\n",
       "</div>"
      ],
      "text/plain": [
       "               userId   productId  score  Rank\n",
       "7148   A37K02NKUIT68K  B003ES5ZUU     31   1.0\n",
       "10388  A37K02NKUIT68K  B0088CJT4U     26   2.0\n",
       "8052   A37K02NKUIT68K  B004CLYEDC     25   3.0\n",
       "8054   A37K02NKUIT68K  B004CLYEFK     24   4.0\n",
       "9985   A37K02NKUIT68K  B0079UAT0A     22   5.0\n",
       "10319  A37K02NKUIT68K  B00829TIEK     22   6.0\n",
       "10315  A37K02NKUIT68K  B00829THK0     21   7.0\n",
       "10324  A37K02NKUIT68K  B0082E9K7U     21   8.0\n",
       "6442   A37K02NKUIT68K  B002R5AM7C     20   9.0\n",
       "10234  A37K02NKUIT68K  B007WTAJTO     20  10.0"
      ]
     },
     "execution_count": 231,
     "metadata": {},
     "output_type": "execute_result"
    }
   ],
   "source": [
    "#Build Popularity Recommender model.\n",
    "pm = Recommenders.popularity_recommender_py()\n",
    "pm.create(train_data, 'userId', 'productId')\n",
    "user_id = users[20]\n",
    "pm.recommend(user_id) # list of top 10 products recommended for user 20 based on popularity."
   ]
  },
  {
   "cell_type": "markdown",
   "metadata": {},
   "source": [
    "# Build Collaborative Filtering model."
   ]
  },
  {
   "cell_type": "code",
   "execution_count": 226,
   "metadata": {},
   "outputs": [],
   "source": [
    "\n",
    "user_rated_100.userId=user_rated_100.userId.astype(str)\n",
    "user_rated_100.productId=user_rated_100.productId.astype(str)\n",
    "reader = Reader(rating_scale=(1.0, 5.0))\n",
    "data = Dataset.load_from_df(user_rated_100[['userId', 'productId', 'ratings']], reader)\n",
    "data\n",
    "from surprise.model_selection import train_test_split\n",
    "train_set, test_set = train_test_split(data, test_size=0.30,random_state=0)\n"
   ]
  },
  {
   "cell_type": "code",
   "execution_count": 227,
   "metadata": {},
   "outputs": [
    {
     "name": "stdout",
     "output_type": "stream",
     "text": [
      "Computing the pearson similarity matrix...\n",
      "Done computing similarity matrix.\n"
     ]
    },
    {
     "data": {
      "text/plain": [
       "<bound method AlgoBase.get_neighbors of <surprise.prediction_algorithms.knns.KNNWithMeans object at 0x000001D698E17208>>"
      ]
     },
     "execution_count": 227,
     "metadata": {},
     "output_type": "execute_result"
    }
   ],
   "source": [
    "algo = KNNWithMeans(k=50, sim_options={'name': 'pearson', 'user_based': False})\n",
    "algo.fit(train_set)\n",
    "algo.get_neighbors"
   ]
  },
  {
   "cell_type": "code",
   "execution_count": 228,
   "metadata": {},
   "outputs": [
    {
     "name": "stdout",
     "output_type": "stream",
     "text": [
      "RMSE: 1.0532\n"
     ]
    },
    {
     "data": {
      "text/plain": [
       "1.0531914436523602"
      ]
     },
     "execution_count": 228,
     "metadata": {},
     "output_type": "execute_result"
    }
   ],
   "source": [
    "# Evalute on test set\n",
    "test_pred = algo.test(test_set)\n",
    "\n",
    "# compute RMSE\n",
    "accuracy.rmse(test_pred)"
   ]
  },
  {
   "cell_type": "markdown",
   "metadata": {},
   "source": [
    "# Get top - K ( K = 5) recommendations. \n",
    "# Since our goal is to recommend new products to each user based on his/her habits, we will recommend 5 new products.\n",
    "# Summarise your insights."
   ]
  },
  {
   "cell_type": "code",
   "execution_count": 232,
   "metadata": {},
   "outputs": [
    {
     "data": {
      "text/html": [
       "<div>\n",
       "<style scoped>\n",
       "    .dataframe tbody tr th:only-of-type {\n",
       "        vertical-align: middle;\n",
       "    }\n",
       "\n",
       "    .dataframe tbody tr th {\n",
       "        vertical-align: top;\n",
       "    }\n",
       "\n",
       "    .dataframe thead th {\n",
       "        text-align: right;\n",
       "    }\n",
       "</style>\n",
       "<table border=\"1\" class=\"dataframe\">\n",
       "  <thead>\n",
       "    <tr style=\"text-align: right;\">\n",
       "      <th></th>\n",
       "      <th>userId</th>\n",
       "      <th>productId</th>\n",
       "      <th>est_rating</th>\n",
       "    </tr>\n",
       "  </thead>\n",
       "  <tbody>\n",
       "    <tr>\n",
       "      <th>0</th>\n",
       "      <td>A6FIAB28IS79</td>\n",
       "      <td>B0006FTKYG</td>\n",
       "      <td>5.0</td>\n",
       "    </tr>\n",
       "    <tr>\n",
       "      <th>1</th>\n",
       "      <td>A6FIAB28IS79</td>\n",
       "      <td>B00AIHYHJA</td>\n",
       "      <td>5.0</td>\n",
       "    </tr>\n",
       "    <tr>\n",
       "      <th>2</th>\n",
       "      <td>A6FIAB28IS79</td>\n",
       "      <td>B004QZFOF6</td>\n",
       "      <td>5.0</td>\n",
       "    </tr>\n",
       "    <tr>\n",
       "      <th>3</th>\n",
       "      <td>A6FIAB28IS79</td>\n",
       "      <td>B001AHSNB0</td>\n",
       "      <td>5.0</td>\n",
       "    </tr>\n",
       "    <tr>\n",
       "      <th>4</th>\n",
       "      <td>A6FIAB28IS79</td>\n",
       "      <td>B00009UTCD</td>\n",
       "      <td>5.0</td>\n",
       "    </tr>\n",
       "    <tr>\n",
       "      <th>5</th>\n",
       "      <td>A6FIAB28IS79</td>\n",
       "      <td>B000YEMKGY</td>\n",
       "      <td>5.0</td>\n",
       "    </tr>\n",
       "    <tr>\n",
       "      <th>6</th>\n",
       "      <td>A6FIAB28IS79</td>\n",
       "      <td>B00GQS290Y</td>\n",
       "      <td>5.0</td>\n",
       "    </tr>\n",
       "    <tr>\n",
       "      <th>7</th>\n",
       "      <td>A6FIAB28IS79</td>\n",
       "      <td>B000EMTJ92</td>\n",
       "      <td>5.0</td>\n",
       "    </tr>\n",
       "    <tr>\n",
       "      <th>8</th>\n",
       "      <td>A6FIAB28IS79</td>\n",
       "      <td>B00FDLHNHO</td>\n",
       "      <td>5.0</td>\n",
       "    </tr>\n",
       "    <tr>\n",
       "      <th>9</th>\n",
       "      <td>A6FIAB28IS79</td>\n",
       "      <td>B003Z4G3I6</td>\n",
       "      <td>5.0</td>\n",
       "    </tr>\n",
       "    <tr>\n",
       "      <th>10</th>\n",
       "      <td>A1F7YU6O5RU432</td>\n",
       "      <td>B00067OF80</td>\n",
       "      <td>5.0</td>\n",
       "    </tr>\n",
       "    <tr>\n",
       "      <th>11</th>\n",
       "      <td>A1F7YU6O5RU432</td>\n",
       "      <td>B0006FTKYG</td>\n",
       "      <td>5.0</td>\n",
       "    </tr>\n",
       "    <tr>\n",
       "      <th>12</th>\n",
       "      <td>A1F7YU6O5RU432</td>\n",
       "      <td>B00AIHYHJA</td>\n",
       "      <td>5.0</td>\n",
       "    </tr>\n",
       "    <tr>\n",
       "      <th>13</th>\n",
       "      <td>A1F7YU6O5RU432</td>\n",
       "      <td>B004QZFOF6</td>\n",
       "      <td>5.0</td>\n",
       "    </tr>\n",
       "    <tr>\n",
       "      <th>14</th>\n",
       "      <td>A1F7YU6O5RU432</td>\n",
       "      <td>B001AHSNB0</td>\n",
       "      <td>5.0</td>\n",
       "    </tr>\n",
       "    <tr>\n",
       "      <th>15</th>\n",
       "      <td>A1F7YU6O5RU432</td>\n",
       "      <td>B00009UTCD</td>\n",
       "      <td>5.0</td>\n",
       "    </tr>\n",
       "    <tr>\n",
       "      <th>16</th>\n",
       "      <td>A1F7YU6O5RU432</td>\n",
       "      <td>B000YEMKGY</td>\n",
       "      <td>5.0</td>\n",
       "    </tr>\n",
       "    <tr>\n",
       "      <th>17</th>\n",
       "      <td>A1F7YU6O5RU432</td>\n",
       "      <td>B00GQS290Y</td>\n",
       "      <td>5.0</td>\n",
       "    </tr>\n",
       "    <tr>\n",
       "      <th>18</th>\n",
       "      <td>A1F7YU6O5RU432</td>\n",
       "      <td>B00BZ7MALY</td>\n",
       "      <td>5.0</td>\n",
       "    </tr>\n",
       "    <tr>\n",
       "      <th>19</th>\n",
       "      <td>A1F7YU6O5RU432</td>\n",
       "      <td>B000EMTJ92</td>\n",
       "      <td>5.0</td>\n",
       "    </tr>\n",
       "  </tbody>\n",
       "</table>\n",
       "</div>"
      ],
      "text/plain": [
       "            userId   productId  est_rating\n",
       "0     A6FIAB28IS79  B0006FTKYG         5.0\n",
       "1     A6FIAB28IS79  B00AIHYHJA         5.0\n",
       "2     A6FIAB28IS79  B004QZFOF6         5.0\n",
       "3     A6FIAB28IS79  B001AHSNB0         5.0\n",
       "4     A6FIAB28IS79  B00009UTCD         5.0\n",
       "5     A6FIAB28IS79  B000YEMKGY         5.0\n",
       "6     A6FIAB28IS79  B00GQS290Y         5.0\n",
       "7     A6FIAB28IS79  B000EMTJ92         5.0\n",
       "8     A6FIAB28IS79  B00FDLHNHO         5.0\n",
       "9     A6FIAB28IS79  B003Z4G3I6         5.0\n",
       "10  A1F7YU6O5RU432  B00067OF80         5.0\n",
       "11  A1F7YU6O5RU432  B0006FTKYG         5.0\n",
       "12  A1F7YU6O5RU432  B00AIHYHJA         5.0\n",
       "13  A1F7YU6O5RU432  B004QZFOF6         5.0\n",
       "14  A1F7YU6O5RU432  B001AHSNB0         5.0\n",
       "15  A1F7YU6O5RU432  B00009UTCD         5.0\n",
       "16  A1F7YU6O5RU432  B000YEMKGY         5.0\n",
       "17  A1F7YU6O5RU432  B00GQS290Y         5.0\n",
       "18  A1F7YU6O5RU432  B00BZ7MALY         5.0\n",
       "19  A1F7YU6O5RU432  B000EMTJ92         5.0"
      ]
     },
     "execution_count": 232,
     "metadata": {},
     "output_type": "execute_result"
    }
   ],
   "source": [
    "testset_new = train_set.build_anti_testset()\n",
    "predictions = algo.test(testset_new[0:10000])\n",
    "predictions_df = pd.DataFrame([[x.uid,x.iid,x.est] for x in predictions])\n",
    "predictions_df.columns = [\"userId\",\"productId\",\"est_rating\"]\n",
    "predictions_df.sort_values(by = [\"userId\", \"est_rating\"],ascending=False,inplace=True)\n",
    "top_10_recos = predictions_df.groupby(\"userId\").head(10).reset_index(drop=True)\n",
    "top_10_recos"
   ]
  },
  {
   "cell_type": "code",
   "execution_count": null,
   "metadata": {},
   "outputs": [],
   "source": [
    "#Evaluate both the models. \n",
    "#( Once the model is trained on the training data, it can be used to compute the error (like RMSE) on predictions made on \n",
    "#the test data.) #You can also use a different method to evaluate the models.\n"
   ]
  },
  {
   "cell_type": "code",
   "execution_count": 240,
   "metadata": {},
   "outputs": [
    {
     "name": "stdout",
     "output_type": "stream",
     "text": [
      "RMSE: 1.0532\n"
     ]
    },
    {
     "data": {
      "text/plain": [
       "1.0531914436523602"
      ]
     },
     "execution_count": 240,
     "metadata": {},
     "output_type": "execute_result"
    }
   ],
   "source": [
    "# RMSE for collaborative is \n",
    "\n",
    "# Evalute on test set\n",
    "test_pred = algo.test(test_set)\n",
    "\n",
    "# compute RMSE\n",
    "accuracy.rmse(test_pred)"
   ]
  },
  {
   "cell_type": "code",
   "execution_count": null,
   "metadata": {},
   "outputs": [],
   "source": []
  }
 ],
 "metadata": {
  "kernelspec": {
   "display_name": "Python 3",
   "language": "python",
   "name": "python3"
  },
  "language_info": {
   "codemirror_mode": {
    "name": "ipython",
    "version": 3
   },
   "file_extension": ".py",
   "mimetype": "text/x-python",
   "name": "python",
   "nbconvert_exporter": "python",
   "pygments_lexer": "ipython3",
   "version": "3.7.3"
  }
 },
 "nbformat": 4,
 "nbformat_minor": 2
}
